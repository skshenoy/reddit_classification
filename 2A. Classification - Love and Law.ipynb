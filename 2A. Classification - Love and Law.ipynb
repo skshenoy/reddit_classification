{
 "cells": [
  {
   "cell_type": "markdown",
   "metadata": {},
   "source": [
    "# Love Problems or Law Problems?"
   ]
  },
  {
   "cell_type": "markdown",
   "metadata": {},
   "source": [
    "## Table of Contents:\n",
    "### [Reading In Data](#r/legaladvice-and-r/relationships)\n",
    "### [Model 1: Logistic Regression](#Logistic-Regression)\n",
    "### [Model 2: Multinomial Naive Bayes](#Multinomial-Naive-Bayes)\n",
    "### [Findings](#Conclusion)"
   ]
  },
  {
   "cell_type": "markdown",
   "metadata": {},
   "source": [
    "## Imports"
   ]
  },
  {
   "cell_type": "code",
   "execution_count": 1,
   "metadata": {},
   "outputs": [],
   "source": [
    "import pandas as pd\n",
    "\n",
    "import nltk\n",
    "import regex as re\n",
    "from nltk.tokenize import RegexpTokenizer\n",
    "from nltk.stem import WordNetLemmatizer\n",
    "from nltk.corpus import stopwords\n",
    "from sklearn.feature_extraction.text import CountVectorizer, TfidfVectorizer\n",
    "\n",
    "from sklearn.pipeline import Pipeline\n",
    "from sklearn.model_selection import train_test_split, GridSearchCV\n",
    "from sklearn.linear_model import LogisticRegression\n",
    "from sklearn.naive_bayes import MultinomialNB, GaussianNB\n",
    "\n",
    "from sklearn.metrics import confusion_matrix\n",
    "\n",
    "from IPython.display import display, Markdown\n",
    "import matplotlib.pyplot as plt\n",
    "\n",
    "%%matplotlib inline"
   ]
  },
  {
   "cell_type": "markdown",
   "metadata": {},
   "source": [
    "## Library"
   ]
  },
  {
   "cell_type": "code",
   "execution_count": 2,
   "metadata": {},
   "outputs": [],
   "source": [
    "def get_info(df):\n",
    "    \"\"\"\n",
    "    Prints some EDA-like information about the given dataframe.\n",
    "    \"\"\"\n",
    "    print('Number of empty posts:', df['selftext'].isnull().sum())\n",
    "    print('Number of unique authors:', df['author'].nunique())\n",
    "    print('Most popular posts:')\n",
    "    display(df.sort_values('score', ascending=False).head(3))\n",
    "    print('Most discussed posts:')\n",
    "    display(df.sort_values('num_comments', ascending=False).head(3))"
   ]
  },
  {
   "cell_type": "code",
   "execution_count": 3,
   "metadata": {},
   "outputs": [],
   "source": [
    "def clean_post(post):\n",
    "    \"\"\"\n",
    "    Does basic cleaning of the text. Removes non-alphabetical characters and transforms to lowercase.\n",
    "    \"\"\"\n",
    "    return \" \".join(re.sub(\"[^a-zA-Z]\", \" \", str(post)).lower().split())"
   ]
  },
  {
   "cell_type": "code",
   "execution_count": 4,
   "metadata": {},
   "outputs": [],
   "source": [
    "def performance_metrics(y_test, preds):\n",
    "    \"\"\"\n",
    "    Takes in actual y-values and predicted y-values and prints out two Markdown tables:\n",
    "    a formatted confusion matrix; and a table of five computed classification metrics.\n",
    "    \"\"\"\n",
    "    display(Markdown('#### Confusion Matrix'))\n",
    "    display(pd.DataFrame(confusion_matrix(y_test, preds), columns=['predicted relationship', 'predicted legal'],\n",
    "            index=['actual relationship', 'actual legal']))\n",
    "    tn, fp, fn, tp = confusion_matrix(y_test, preds).ravel()\n",
    "    \n",
    "    accuracy = round(((tn + tp) / (tn + tp + fn + fp)), 3)\n",
    "    \n",
    "    precision = round((tp / (tp + fp)), 3)\n",
    "    \n",
    "    sensitivity = round((tp / (tp + fn)), 3)\n",
    "    \n",
    "    specificity = round((tn / (tn + fp)), 3)\n",
    "    \n",
    "    misclassification_rate = round(((fp + fn) / (tn + tp + fn + fp)), 3)\n",
    "    \n",
    "    performance = f\"\"\"| Metric  | Score\n",
    "|--------|--------------------\n",
    "| Accuracy | {accuracy} |\n",
    "| Precision | {precision} |\n",
    "| Sensitivity | {sensitivity} |\n",
    "| Specificity | {specificity} |\n",
    "| Misclassification Rate | {misclassification_rate} |\"\"\"\n",
    "    \n",
    "    display(Markdown('#### Performance Metrics'))\n",
    "    display(Markdown(performance))"
   ]
  },
  {
   "cell_type": "code",
   "execution_count": 5,
   "metadata": {},
   "outputs": [],
   "source": [
    "def gs_pipe_performance(gspipe, X_train, X_test, y_train, y_test):\n",
    "    \"\"\"\n",
    "    Prints out a number of informative messages about a GridSearchCV object after it has been fit.\n",
    "    Includes: best score, best params (for the best estimator), training and test scores, the scorer,\n",
    "    the baseline (i.e., normalized actual y-value counts), and also calls performance_metrics().\n",
    "    \"\"\"\n",
    "    print(\"Best score:\", gspipe.best_score_)\n",
    "    print()\n",
    "    print(\"Best params:\")\n",
    "    for k, v in gspipe.best_params_.items():\n",
    "        print(\"\\t\"+k, v)\n",
    "        print()\n",
    "    print()\n",
    "    print(\"Training score:\", gspipe.score(X_train, y_train))\n",
    "    print(\"Test score:\", gspipe.score(X_test, y_test))\n",
    "    print(\"Scorer:\", gspipe.scorer_)\n",
    "    print()\n",
    "    print(\"Baseline:\")\n",
    "    print(y_test.value_counts(normalize=True))\n",
    "    print()\n",
    "    preds = gspipe.predict(X_test)\n",
    "    print(preds[:20])\n",
    "    performance_metrics(y_test, preds)"
   ]
  },
  {
   "cell_type": "markdown",
   "metadata": {},
   "source": [
    "## r/legaladvice and r/relationships\n",
    "\n",
    "[**return to top of notebook**](#Love-Problems-or-Law-Problems?)"
   ]
  },
  {
   "cell_type": "markdown",
   "metadata": {},
   "source": [
    "### r/legaladvice"
   ]
  },
  {
   "cell_type": "code",
   "execution_count": 6,
   "metadata": {
    "scrolled": true
   },
   "outputs": [
    {
     "name": "stdout",
     "output_type": "stream",
     "text": [
      "(2503, 14)\n",
      "\n",
      "author object\n",
      "author_fullname object\n",
      "created_utc int64\n",
      "domain object\n",
      "full_link object\n",
      "id object\n",
      "num_comments int64\n",
      "permalink object\n",
      "score int64\n",
      "selftext object\n",
      "subreddit object\n",
      "subreddit_id object\n",
      "title object\n",
      "url object\n",
      "author              0\n",
      "author_fullname     0\n",
      "created_utc         0\n",
      "domain              0\n",
      "full_link           0\n",
      "id                  0\n",
      "num_comments        0\n",
      "permalink           0\n",
      "score               0\n",
      "selftext           32\n",
      "subreddit           0\n",
      "subreddit_id        0\n",
      "title               0\n",
      "url                 0\n",
      "dtype: int64\n"
     ]
    },
    {
     "data": {
      "text/html": [
       "<div>\n",
       "<style scoped>\n",
       "    .dataframe tbody tr th:only-of-type {\n",
       "        vertical-align: middle;\n",
       "    }\n",
       "\n",
       "    .dataframe tbody tr th {\n",
       "        vertical-align: top;\n",
       "    }\n",
       "\n",
       "    .dataframe thead th {\n",
       "        text-align: right;\n",
       "    }\n",
       "</style>\n",
       "<table border=\"1\" class=\"dataframe\">\n",
       "  <thead>\n",
       "    <tr style=\"text-align: right;\">\n",
       "      <th></th>\n",
       "      <th>author</th>\n",
       "      <th>author_fullname</th>\n",
       "      <th>created_utc</th>\n",
       "      <th>domain</th>\n",
       "      <th>full_link</th>\n",
       "      <th>id</th>\n",
       "      <th>num_comments</th>\n",
       "      <th>permalink</th>\n",
       "      <th>score</th>\n",
       "      <th>selftext</th>\n",
       "      <th>subreddit</th>\n",
       "      <th>subreddit_id</th>\n",
       "      <th>title</th>\n",
       "      <th>url</th>\n",
       "    </tr>\n",
       "  </thead>\n",
       "  <tbody>\n",
       "    <tr>\n",
       "      <td>0</td>\n",
       "      <td>SpookWithoutaName</td>\n",
       "      <td>t2_4j8ld79a</td>\n",
       "      <td>1570821844</td>\n",
       "      <td>self.legaladvice</td>\n",
       "      <td>https://www.reddit.com/r/legaladvice/comments/...</td>\n",
       "      <td>dgjxs9</td>\n",
       "      <td>109</td>\n",
       "      <td>/r/legaladvice/comments/dgjxs9/my_identity_was...</td>\n",
       "      <td>179</td>\n",
       "      <td>Most people think my username is an attempt to...</td>\n",
       "      <td>legaladvice</td>\n",
       "      <td>t5_2rawz</td>\n",
       "      <td>My identity was erased. How do I get it back?</td>\n",
       "      <td>https://www.reddit.com/r/legaladvice/comments/...</td>\n",
       "    </tr>\n",
       "    <tr>\n",
       "      <td>1</td>\n",
       "      <td>Crockett721</td>\n",
       "      <td>t2_7gc0b</td>\n",
       "      <td>1570731602</td>\n",
       "      <td>self.legaladvice</td>\n",
       "      <td>https://www.reddit.com/r/legaladvice/comments/...</td>\n",
       "      <td>dg240u</td>\n",
       "      <td>147</td>\n",
       "      <td>/r/legaladvice/comments/dg240u/i_purchased_a_v...</td>\n",
       "      <td>9381</td>\n",
       "      <td>A bit of a doozy...\\n\\nI purchased a car Satur...</td>\n",
       "      <td>legaladvice</td>\n",
       "      <td>t5_2rawz</td>\n",
       "      <td>I purchased a vehicle and was assaulted by the...</td>\n",
       "      <td>https://www.reddit.com/r/legaladvice/comments/...</td>\n",
       "    </tr>\n",
       "    <tr>\n",
       "      <td>2</td>\n",
       "      <td>Alex6095</td>\n",
       "      <td>t2_th4igev</td>\n",
       "      <td>1570735501</td>\n",
       "      <td>self.legaladvice</td>\n",
       "      <td>https://www.reddit.com/r/legaladvice/comments/...</td>\n",
       "      <td>dg33fj</td>\n",
       "      <td>45</td>\n",
       "      <td>/r/legaladvice/comments/dg33fj/made_an_osha_co...</td>\n",
       "      <td>505</td>\n",
       "      <td>Hi, I work in a factory that produces products...</td>\n",
       "      <td>legaladvice</td>\n",
       "      <td>t5_2rawz</td>\n",
       "      <td>Made an OSHA complaint about hazardous working...</td>\n",
       "      <td>https://www.reddit.com/r/legaladvice/comments/...</td>\n",
       "    </tr>\n",
       "    <tr>\n",
       "      <td>3</td>\n",
       "      <td>TNInsuranceTicket</td>\n",
       "      <td>t2_4rqc7l9v</td>\n",
       "      <td>1570736500</td>\n",
       "      <td>self.legaladvice</td>\n",
       "      <td>https://www.reddit.com/r/legaladvice/comments/...</td>\n",
       "      <td>dg3cij</td>\n",
       "      <td>54</td>\n",
       "      <td>/r/legaladvice/comments/dg3cij/tn_police_offic...</td>\n",
       "      <td>185</td>\n",
       "      <td>I'll do my best to keep this brief. I was pull...</td>\n",
       "      <td>legaladvice</td>\n",
       "      <td>t5_2rawz</td>\n",
       "      <td>[TN] Police Officer wouldn't accept my insuran...</td>\n",
       "      <td>https://www.reddit.com/r/legaladvice/comments/...</td>\n",
       "    </tr>\n",
       "    <tr>\n",
       "      <td>4</td>\n",
       "      <td>roastedmarshmellow86</td>\n",
       "      <td>t2_z3xnx</td>\n",
       "      <td>1570795592</td>\n",
       "      <td>self.legaladvice</td>\n",
       "      <td>https://www.reddit.com/r/legaladvice/comments/...</td>\n",
       "      <td>dge74l</td>\n",
       "      <td>158</td>\n",
       "      <td>/r/legaladvice/comments/dge74l/my_gm_is_strong...</td>\n",
       "      <td>3167</td>\n",
       "      <td>Some history:\\n I was hired here by 2 of the D...</td>\n",
       "      <td>legaladvice</td>\n",
       "      <td>t5_2rawz</td>\n",
       "      <td>My GM is strongly implying ill be Terminated o...</td>\n",
       "      <td>https://www.reddit.com/r/legaladvice/comments/...</td>\n",
       "    </tr>\n",
       "  </tbody>\n",
       "</table>\n",
       "</div>"
      ],
      "text/plain": [
       "                 author author_fullname  created_utc            domain  \\\n",
       "0     SpookWithoutaName     t2_4j8ld79a   1570821844  self.legaladvice   \n",
       "1           Crockett721        t2_7gc0b   1570731602  self.legaladvice   \n",
       "2              Alex6095      t2_th4igev   1570735501  self.legaladvice   \n",
       "3     TNInsuranceTicket     t2_4rqc7l9v   1570736500  self.legaladvice   \n",
       "4  roastedmarshmellow86        t2_z3xnx   1570795592  self.legaladvice   \n",
       "\n",
       "                                           full_link      id  num_comments  \\\n",
       "0  https://www.reddit.com/r/legaladvice/comments/...  dgjxs9           109   \n",
       "1  https://www.reddit.com/r/legaladvice/comments/...  dg240u           147   \n",
       "2  https://www.reddit.com/r/legaladvice/comments/...  dg33fj            45   \n",
       "3  https://www.reddit.com/r/legaladvice/comments/...  dg3cij            54   \n",
       "4  https://www.reddit.com/r/legaladvice/comments/...  dge74l           158   \n",
       "\n",
       "                                           permalink  score  \\\n",
       "0  /r/legaladvice/comments/dgjxs9/my_identity_was...    179   \n",
       "1  /r/legaladvice/comments/dg240u/i_purchased_a_v...   9381   \n",
       "2  /r/legaladvice/comments/dg33fj/made_an_osha_co...    505   \n",
       "3  /r/legaladvice/comments/dg3cij/tn_police_offic...    185   \n",
       "4  /r/legaladvice/comments/dge74l/my_gm_is_strong...   3167   \n",
       "\n",
       "                                            selftext    subreddit  \\\n",
       "0  Most people think my username is an attempt to...  legaladvice   \n",
       "1  A bit of a doozy...\\n\\nI purchased a car Satur...  legaladvice   \n",
       "2  Hi, I work in a factory that produces products...  legaladvice   \n",
       "3  I'll do my best to keep this brief. I was pull...  legaladvice   \n",
       "4  Some history:\\n I was hired here by 2 of the D...  legaladvice   \n",
       "\n",
       "  subreddit_id                                              title  \\\n",
       "0     t5_2rawz      My identity was erased. How do I get it back?   \n",
       "1     t5_2rawz  I purchased a vehicle and was assaulted by the...   \n",
       "2     t5_2rawz  Made an OSHA complaint about hazardous working...   \n",
       "3     t5_2rawz  [TN] Police Officer wouldn't accept my insuran...   \n",
       "4     t5_2rawz  My GM is strongly implying ill be Terminated o...   \n",
       "\n",
       "                                                 url  \n",
       "0  https://www.reddit.com/r/legaladvice/comments/...  \n",
       "1  https://www.reddit.com/r/legaladvice/comments/...  \n",
       "2  https://www.reddit.com/r/legaladvice/comments/...  \n",
       "3  https://www.reddit.com/r/legaladvice/comments/...  \n",
       "4  https://www.reddit.com/r/legaladvice/comments/...  "
      ]
     },
     "execution_count": 6,
     "metadata": {},
     "output_type": "execute_result"
    }
   ],
   "source": [
    "legaladvice = pd.read_csv('./datasets/r_legaladvice.csv')\n",
    "print(legaladvice.shape)\n",
    "print()\n",
    "for c in legaladvice.columns:\n",
    "    print(c, legaladvice[c].dtype)\n",
    "print(legaladvice.isnull().sum())\n",
    "legaladvice.head()"
   ]
  },
  {
   "cell_type": "code",
   "execution_count": 7,
   "metadata": {},
   "outputs": [
    {
     "name": "stdout",
     "output_type": "stream",
     "text": [
      "Number of empty posts: 32\n",
      "Number of unique authors: 2395\n",
      "Most popular posts:\n"
     ]
    },
    {
     "data": {
      "text/html": [
       "<div>\n",
       "<style scoped>\n",
       "    .dataframe tbody tr th:only-of-type {\n",
       "        vertical-align: middle;\n",
       "    }\n",
       "\n",
       "    .dataframe tbody tr th {\n",
       "        vertical-align: top;\n",
       "    }\n",
       "\n",
       "    .dataframe thead th {\n",
       "        text-align: right;\n",
       "    }\n",
       "</style>\n",
       "<table border=\"1\" class=\"dataframe\">\n",
       "  <thead>\n",
       "    <tr style=\"text-align: right;\">\n",
       "      <th></th>\n",
       "      <th>author</th>\n",
       "      <th>author_fullname</th>\n",
       "      <th>created_utc</th>\n",
       "      <th>domain</th>\n",
       "      <th>full_link</th>\n",
       "      <th>id</th>\n",
       "      <th>num_comments</th>\n",
       "      <th>permalink</th>\n",
       "      <th>score</th>\n",
       "      <th>selftext</th>\n",
       "      <th>subreddit</th>\n",
       "      <th>subreddit_id</th>\n",
       "      <th>title</th>\n",
       "      <th>url</th>\n",
       "    </tr>\n",
       "  </thead>\n",
       "  <tbody>\n",
       "    <tr>\n",
       "      <td>1702</td>\n",
       "      <td>poksoooosoo28</td>\n",
       "      <td>t2_3jaicttf</td>\n",
       "      <td>1556209785</td>\n",
       "      <td>self.legaladvice</td>\n",
       "      <td>https://www.reddit.com/r/legaladvice/comments/...</td>\n",
       "      <td>bhaof3</td>\n",
       "      <td>4</td>\n",
       "      <td>/r/legaladvice/comments/bhaof3/update_neighbor...</td>\n",
       "      <td>55763</td>\n",
       "      <td>Original post: https://www.reddit.com/r/legala...</td>\n",
       "      <td>legaladvice</td>\n",
       "      <td>t5_2rawz</td>\n",
       "      <td>(Update) Neighbors child has disabilities and ...</td>\n",
       "      <td>https://www.reddit.com/r/legaladvice/comments/...</td>\n",
       "    </tr>\n",
       "    <tr>\n",
       "      <td>1653</td>\n",
       "      <td>throwaway_18701</td>\n",
       "      <td>t2_3dma3xwj</td>\n",
       "      <td>1556477313</td>\n",
       "      <td>self.legaladvice</td>\n",
       "      <td>https://www.reddit.com/r/legaladvice/comments/...</td>\n",
       "      <td>bieir5</td>\n",
       "      <td>3</td>\n",
       "      <td>/r/legaladvice/comments/bieir5/update_pa_i_fol...</td>\n",
       "      <td>38858</td>\n",
       "      <td>This is an update to my [original post](https:...</td>\n",
       "      <td>legaladvice</td>\n",
       "      <td>t5_2rawz</td>\n",
       "      <td>[UPDATE] [PA] I followed and reported a drunk ...</td>\n",
       "      <td>https://www.reddit.com/r/legaladvice/comments/...</td>\n",
       "    </tr>\n",
       "    <tr>\n",
       "      <td>1760</td>\n",
       "      <td>throwmeinalake123</td>\n",
       "      <td>t2_3gba89ml</td>\n",
       "      <td>1555643214</td>\n",
       "      <td>self.legaladvice</td>\n",
       "      <td>https://www.reddit.com/r/legaladvice/comments/...</td>\n",
       "      <td>beuf9y</td>\n",
       "      <td>4</td>\n",
       "      <td>/r/legaladvice/comments/beuf9y/update_my_fathe...</td>\n",
       "      <td>35337</td>\n",
       "      <td>[Here's my original post](https://www.reddit.c...</td>\n",
       "      <td>legaladvice</td>\n",
       "      <td>t5_2rawz</td>\n",
       "      <td>UPDATE: My father and step mother died, leavin...</td>\n",
       "      <td>https://www.reddit.com/r/legaladvice/comments/...</td>\n",
       "    </tr>\n",
       "  </tbody>\n",
       "</table>\n",
       "</div>"
      ],
      "text/plain": [
       "                 author author_fullname  created_utc            domain  \\\n",
       "1702      poksoooosoo28     t2_3jaicttf   1556209785  self.legaladvice   \n",
       "1653    throwaway_18701     t2_3dma3xwj   1556477313  self.legaladvice   \n",
       "1760  throwmeinalake123     t2_3gba89ml   1555643214  self.legaladvice   \n",
       "\n",
       "                                              full_link      id  num_comments  \\\n",
       "1702  https://www.reddit.com/r/legaladvice/comments/...  bhaof3             4   \n",
       "1653  https://www.reddit.com/r/legaladvice/comments/...  bieir5             3   \n",
       "1760  https://www.reddit.com/r/legaladvice/comments/...  beuf9y             4   \n",
       "\n",
       "                                              permalink  score  \\\n",
       "1702  /r/legaladvice/comments/bhaof3/update_neighbor...  55763   \n",
       "1653  /r/legaladvice/comments/bieir5/update_pa_i_fol...  38858   \n",
       "1760  /r/legaladvice/comments/beuf9y/update_my_fathe...  35337   \n",
       "\n",
       "                                               selftext    subreddit  \\\n",
       "1702  Original post: https://www.reddit.com/r/legala...  legaladvice   \n",
       "1653  This is an update to my [original post](https:...  legaladvice   \n",
       "1760  [Here's my original post](https://www.reddit.c...  legaladvice   \n",
       "\n",
       "     subreddit_id                                              title  \\\n",
       "1702     t5_2rawz  (Update) Neighbors child has disabilities and ...   \n",
       "1653     t5_2rawz  [UPDATE] [PA] I followed and reported a drunk ...   \n",
       "1760     t5_2rawz  UPDATE: My father and step mother died, leavin...   \n",
       "\n",
       "                                                    url  \n",
       "1702  https://www.reddit.com/r/legaladvice/comments/...  \n",
       "1653  https://www.reddit.com/r/legaladvice/comments/...  \n",
       "1760  https://www.reddit.com/r/legaladvice/comments/...  "
      ]
     },
     "metadata": {},
     "output_type": "display_data"
    },
    {
     "name": "stdout",
     "output_type": "stream",
     "text": [
      "Most discussed posts:\n"
     ]
    },
    {
     "data": {
      "text/html": [
       "<div>\n",
       "<style scoped>\n",
       "    .dataframe tbody tr th:only-of-type {\n",
       "        vertical-align: middle;\n",
       "    }\n",
       "\n",
       "    .dataframe tbody tr th {\n",
       "        vertical-align: top;\n",
       "    }\n",
       "\n",
       "    .dataframe thead th {\n",
       "        text-align: right;\n",
       "    }\n",
       "</style>\n",
       "<table border=\"1\" class=\"dataframe\">\n",
       "  <thead>\n",
       "    <tr style=\"text-align: right;\">\n",
       "      <th></th>\n",
       "      <th>author</th>\n",
       "      <th>author_fullname</th>\n",
       "      <th>created_utc</th>\n",
       "      <th>domain</th>\n",
       "      <th>full_link</th>\n",
       "      <th>id</th>\n",
       "      <th>num_comments</th>\n",
       "      <th>permalink</th>\n",
       "      <th>score</th>\n",
       "      <th>selftext</th>\n",
       "      <th>subreddit</th>\n",
       "      <th>subreddit_id</th>\n",
       "      <th>title</th>\n",
       "      <th>url</th>\n",
       "    </tr>\n",
       "  </thead>\n",
       "  <tbody>\n",
       "    <tr>\n",
       "      <td>2314</td>\n",
       "      <td>Zanctmao</td>\n",
       "      <td>t2_nszex</td>\n",
       "      <td>1551735326</td>\n",
       "      <td>self.legaladvice</td>\n",
       "      <td>https://www.reddit.com/r/legaladvice/comments/...</td>\n",
       "      <td>axcpzw</td>\n",
       "      <td>599</td>\n",
       "      <td>/r/legaladvice/comments/axcpzw/megathread_it_w...</td>\n",
       "      <td>905</td>\n",
       "      <td>This was initially discussed in [this megathre...</td>\n",
       "      <td>legaladvice</td>\n",
       "      <td>t5_2rawz</td>\n",
       "      <td>[Megathread] It will become a federal crime to...</td>\n",
       "      <td>https://www.reddit.com/r/legaladvice/comments/...</td>\n",
       "    </tr>\n",
       "    <tr>\n",
       "      <td>1328</td>\n",
       "      <td>GoonDaFirst</td>\n",
       "      <td>t2_zmh7d</td>\n",
       "      <td>1558893052</td>\n",
       "      <td>self.legaladvice</td>\n",
       "      <td>https://www.reddit.com/r/legaladvice/comments/...</td>\n",
       "      <td>btauw7</td>\n",
       "      <td>390</td>\n",
       "      <td>/r/legaladvice/comments/btauw7/mi_usa_consider...</td>\n",
       "      <td>9511</td>\n",
       "      <td>I have a big family, with around 20 cousins,  ...</td>\n",
       "      <td>legaladvice</td>\n",
       "      <td>t5_2rawz</td>\n",
       "      <td>[MI, USA] Considering suing my uncle after he ...</td>\n",
       "      <td>https://www.reddit.com/r/legaladvice/comments/...</td>\n",
       "    </tr>\n",
       "    <tr>\n",
       "      <td>1927</td>\n",
       "      <td>poksoooosoo28</td>\n",
       "      <td>t2_3jaicttf</td>\n",
       "      <td>1554323940</td>\n",
       "      <td>self.legaladvice</td>\n",
       "      <td>https://www.reddit.com/r/legaladvice/comments/...</td>\n",
       "      <td>b93dx3</td>\n",
       "      <td>353</td>\n",
       "      <td>/r/legaladvice/comments/b93dx3/neighbors_child...</td>\n",
       "      <td>18239</td>\n",
       "      <td>For the past 7 months after moving in to my ne...</td>\n",
       "      <td>legaladvice</td>\n",
       "      <td>t5_2rawz</td>\n",
       "      <td>Neighbors child has disabilities and won't sto...</td>\n",
       "      <td>https://www.reddit.com/r/legaladvice/comments/...</td>\n",
       "    </tr>\n",
       "  </tbody>\n",
       "</table>\n",
       "</div>"
      ],
      "text/plain": [
       "             author author_fullname  created_utc            domain  \\\n",
       "2314       Zanctmao        t2_nszex   1551735326  self.legaladvice   \n",
       "1328    GoonDaFirst        t2_zmh7d   1558893052  self.legaladvice   \n",
       "1927  poksoooosoo28     t2_3jaicttf   1554323940  self.legaladvice   \n",
       "\n",
       "                                              full_link      id  num_comments  \\\n",
       "2314  https://www.reddit.com/r/legaladvice/comments/...  axcpzw           599   \n",
       "1328  https://www.reddit.com/r/legaladvice/comments/...  btauw7           390   \n",
       "1927  https://www.reddit.com/r/legaladvice/comments/...  b93dx3           353   \n",
       "\n",
       "                                              permalink  score  \\\n",
       "2314  /r/legaladvice/comments/axcpzw/megathread_it_w...    905   \n",
       "1328  /r/legaladvice/comments/btauw7/mi_usa_consider...   9511   \n",
       "1927  /r/legaladvice/comments/b93dx3/neighbors_child...  18239   \n",
       "\n",
       "                                               selftext    subreddit  \\\n",
       "2314  This was initially discussed in [this megathre...  legaladvice   \n",
       "1328  I have a big family, with around 20 cousins,  ...  legaladvice   \n",
       "1927  For the past 7 months after moving in to my ne...  legaladvice   \n",
       "\n",
       "     subreddit_id                                              title  \\\n",
       "2314     t5_2rawz  [Megathread] It will become a federal crime to...   \n",
       "1328     t5_2rawz  [MI, USA] Considering suing my uncle after he ...   \n",
       "1927     t5_2rawz  Neighbors child has disabilities and won't sto...   \n",
       "\n",
       "                                                    url  \n",
       "2314  https://www.reddit.com/r/legaladvice/comments/...  \n",
       "1328  https://www.reddit.com/r/legaladvice/comments/...  \n",
       "1927  https://www.reddit.com/r/legaladvice/comments/...  "
      ]
     },
     "metadata": {},
     "output_type": "display_data"
    }
   ],
   "source": [
    "get_info(legaladvice)"
   ]
  },
  {
   "cell_type": "code",
   "execution_count": 8,
   "metadata": {},
   "outputs": [],
   "source": [
    "legaladvice.dropna(inplace=True)"
   ]
  },
  {
   "cell_type": "code",
   "execution_count": 9,
   "metadata": {},
   "outputs": [
    {
     "data": {
      "text/plain": [
       "(2471, 14)"
      ]
     },
     "execution_count": 9,
     "metadata": {},
     "output_type": "execute_result"
    }
   ],
   "source": [
    "legaladvice.shape"
   ]
  },
  {
   "cell_type": "code",
   "execution_count": 10,
   "metadata": {},
   "outputs": [
    {
     "data": {
      "text/plain": [
       "Index(['author', 'author_fullname', 'created_utc', 'domain', 'full_link', 'id',\n",
       "       'num_comments', 'permalink', 'score', 'selftext', 'subreddit',\n",
       "       'subreddit_id', 'title', 'url'],\n",
       "      dtype='object')"
      ]
     },
     "execution_count": 10,
     "metadata": {},
     "output_type": "execute_result"
    }
   ],
   "source": [
    "legaladvice.columns"
   ]
  },
  {
   "cell_type": "code",
   "execution_count": 11,
   "metadata": {},
   "outputs": [
    {
     "data": {
      "text/html": [
       "<div>\n",
       "<style scoped>\n",
       "    .dataframe tbody tr th:only-of-type {\n",
       "        vertical-align: middle;\n",
       "    }\n",
       "\n",
       "    .dataframe tbody tr th {\n",
       "        vertical-align: top;\n",
       "    }\n",
       "\n",
       "    .dataframe thead th {\n",
       "        text-align: right;\n",
       "    }\n",
       "</style>\n",
       "<table border=\"1\" class=\"dataframe\">\n",
       "  <thead>\n",
       "    <tr style=\"text-align: right;\">\n",
       "      <th></th>\n",
       "      <th>op_text</th>\n",
       "      <th>is_legal</th>\n",
       "    </tr>\n",
       "  </thead>\n",
       "  <tbody>\n",
       "    <tr>\n",
       "      <td>0</td>\n",
       "      <td>My identity was erased. How do I get it back? ...</td>\n",
       "      <td>1</td>\n",
       "    </tr>\n",
       "    <tr>\n",
       "      <td>1</td>\n",
       "      <td>I purchased a vehicle and was assaulted by the...</td>\n",
       "      <td>1</td>\n",
       "    </tr>\n",
       "    <tr>\n",
       "      <td>2</td>\n",
       "      <td>Made an OSHA complaint about hazardous working...</td>\n",
       "      <td>1</td>\n",
       "    </tr>\n",
       "    <tr>\n",
       "      <td>3</td>\n",
       "      <td>[TN] Police Officer wouldn't accept my insuran...</td>\n",
       "      <td>1</td>\n",
       "    </tr>\n",
       "    <tr>\n",
       "      <td>4</td>\n",
       "      <td>My GM is strongly implying ill be Terminated o...</td>\n",
       "      <td>1</td>\n",
       "    </tr>\n",
       "  </tbody>\n",
       "</table>\n",
       "</div>"
      ],
      "text/plain": [
       "                                             op_text  is_legal\n",
       "0  My identity was erased. How do I get it back? ...         1\n",
       "1  I purchased a vehicle and was assaulted by the...         1\n",
       "2  Made an OSHA complaint about hazardous working...         1\n",
       "3  [TN] Police Officer wouldn't accept my insuran...         1\n",
       "4  My GM is strongly implying ill be Terminated o...         1"
      ]
     },
     "execution_count": 11,
     "metadata": {},
     "output_type": "execute_result"
    }
   ],
   "source": [
    "legaladvice['op_text'] = legaladvice['title'] + \" \" + legaladvice['selftext']\n",
    "legal_input = legaladvice[['op_text']].copy()\n",
    "legal_input['is_legal'] = 1\n",
    "legal_input.head()"
   ]
  },
  {
   "cell_type": "markdown",
   "metadata": {},
   "source": [
    "### r/relationships"
   ]
  },
  {
   "cell_type": "code",
   "execution_count": 12,
   "metadata": {},
   "outputs": [
    {
     "name": "stdout",
     "output_type": "stream",
     "text": [
      "(2508, 14)\n",
      "\n",
      "author object\n",
      "author_fullname object\n",
      "created_utc int64\n",
      "domain object\n",
      "full_link object\n",
      "id object\n",
      "num_comments int64\n",
      "permalink object\n",
      "score int64\n",
      "selftext object\n",
      "subreddit object\n",
      "subreddit_id object\n",
      "title object\n",
      "url object\n",
      "author             0\n",
      "author_fullname    0\n",
      "created_utc        0\n",
      "domain             0\n",
      "full_link          0\n",
      "id                 0\n",
      "num_comments       0\n",
      "permalink          0\n",
      "score              0\n",
      "selftext           0\n",
      "subreddit          0\n",
      "subreddit_id       0\n",
      "title              0\n",
      "url                0\n",
      "dtype: int64\n"
     ]
    },
    {
     "data": {
      "text/html": [
       "<div>\n",
       "<style scoped>\n",
       "    .dataframe tbody tr th:only-of-type {\n",
       "        vertical-align: middle;\n",
       "    }\n",
       "\n",
       "    .dataframe tbody tr th {\n",
       "        vertical-align: top;\n",
       "    }\n",
       "\n",
       "    .dataframe thead th {\n",
       "        text-align: right;\n",
       "    }\n",
       "</style>\n",
       "<table border=\"1\" class=\"dataframe\">\n",
       "  <thead>\n",
       "    <tr style=\"text-align: right;\">\n",
       "      <th></th>\n",
       "      <th>author</th>\n",
       "      <th>author_fullname</th>\n",
       "      <th>created_utc</th>\n",
       "      <th>domain</th>\n",
       "      <th>full_link</th>\n",
       "      <th>id</th>\n",
       "      <th>num_comments</th>\n",
       "      <th>permalink</th>\n",
       "      <th>score</th>\n",
       "      <th>selftext</th>\n",
       "      <th>subreddit</th>\n",
       "      <th>subreddit_id</th>\n",
       "      <th>title</th>\n",
       "      <th>url</th>\n",
       "    </tr>\n",
       "  </thead>\n",
       "  <tbody>\n",
       "    <tr>\n",
       "      <td>0</td>\n",
       "      <td>Weak_Business</td>\n",
       "      <td>t2_4rhiezyx</td>\n",
       "      <td>1570651879</td>\n",
       "      <td>self.relationships</td>\n",
       "      <td>https://www.reddit.com/r/relationships/comment...</td>\n",
       "      <td>dfmmwc</td>\n",
       "      <td>691</td>\n",
       "      <td>/r/relationships/comments/dfmmwc/i_am_26f_7_mo...</td>\n",
       "      <td>2446</td>\n",
       "      <td>I don't even know how to start this post. I wa...</td>\n",
       "      <td>relationships</td>\n",
       "      <td>t5_2qjvn</td>\n",
       "      <td>I am (26f) 7 months pregnant with a married ma...</td>\n",
       "      <td>https://www.reddit.com/r/relationships/comment...</td>\n",
       "    </tr>\n",
       "    <tr>\n",
       "      <td>1</td>\n",
       "      <td>beetsgonewilde</td>\n",
       "      <td>t2_4ri3dgnj</td>\n",
       "      <td>1570656336</td>\n",
       "      <td>self.relationships</td>\n",
       "      <td>https://www.reddit.com/r/relationships/comment...</td>\n",
       "      <td>dfnooe</td>\n",
       "      <td>143</td>\n",
       "      <td>/r/relationships/comments/dfnooe/should_i_25f_...</td>\n",
       "      <td>907</td>\n",
       "      <td>I was with my boyfriend Nate for about a year....</td>\n",
       "      <td>relationships</td>\n",
       "      <td>t5_2qjvn</td>\n",
       "      <td>Should I (25F) cut off all my friends (25-27MF...</td>\n",
       "      <td>https://www.reddit.com/r/relationships/comment...</td>\n",
       "    </tr>\n",
       "    <tr>\n",
       "      <td>2</td>\n",
       "      <td>throwaway080519670</td>\n",
       "      <td>t2_3ix72rv6</td>\n",
       "      <td>1570656793</td>\n",
       "      <td>self.relationships</td>\n",
       "      <td>https://www.reddit.com/r/relationships/comment...</td>\n",
       "      <td>dfnshq</td>\n",
       "      <td>134</td>\n",
       "      <td>/r/relationships/comments/dfnshq/am_i_20f_over...</td>\n",
       "      <td>183</td>\n",
       "      <td>I am using a throwaway because my boyfriend (2...</td>\n",
       "      <td>relationships</td>\n",
       "      <td>t5_2qjvn</td>\n",
       "      <td>Am I (20F) overreacting or was this joke insen...</td>\n",
       "      <td>https://www.reddit.com/r/relationships/comment...</td>\n",
       "    </tr>\n",
       "    <tr>\n",
       "      <td>3</td>\n",
       "      <td>bitterbuffalohearts</td>\n",
       "      <td>t2_3ml503vf</td>\n",
       "      <td>1570662311</td>\n",
       "      <td>self.relationships</td>\n",
       "      <td>https://www.reddit.com/r/relationships/comment...</td>\n",
       "      <td>dfp26n</td>\n",
       "      <td>141</td>\n",
       "      <td>/r/relationships/comments/dfp26n/my_f29_husban...</td>\n",
       "      <td>299</td>\n",
       "      <td>My husband cannot handle being asked to do som...</td>\n",
       "      <td>relationships</td>\n",
       "      <td>t5_2qjvn</td>\n",
       "      <td>My [F29] husband of nine years [M36] cannot ha...</td>\n",
       "      <td>https://www.reddit.com/r/relationships/comment...</td>\n",
       "    </tr>\n",
       "    <tr>\n",
       "      <td>4</td>\n",
       "      <td>Queen_Of_Ashes_</td>\n",
       "      <td>t2_3sy62flb</td>\n",
       "      <td>1570695815</td>\n",
       "      <td>self.relationships</td>\n",
       "      <td>https://www.reddit.com/r/relationships/comment...</td>\n",
       "      <td>dfuy2g</td>\n",
       "      <td>531</td>\n",
       "      <td>/r/relationships/comments/dfuy2g/update_i_28f_...</td>\n",
       "      <td>5906</td>\n",
       "      <td>Previous post can be found [here](https://www....</td>\n",
       "      <td>relationships</td>\n",
       "      <td>t5_2qjvn</td>\n",
       "      <td>UPDATE: I (28F) am getting tired of my bf (28M...</td>\n",
       "      <td>https://www.reddit.com/r/relationships/comment...</td>\n",
       "    </tr>\n",
       "  </tbody>\n",
       "</table>\n",
       "</div>"
      ],
      "text/plain": [
       "                author author_fullname  created_utc              domain  \\\n",
       "0        Weak_Business     t2_4rhiezyx   1570651879  self.relationships   \n",
       "1       beetsgonewilde     t2_4ri3dgnj   1570656336  self.relationships   \n",
       "2   throwaway080519670     t2_3ix72rv6   1570656793  self.relationships   \n",
       "3  bitterbuffalohearts     t2_3ml503vf   1570662311  self.relationships   \n",
       "4      Queen_Of_Ashes_     t2_3sy62flb   1570695815  self.relationships   \n",
       "\n",
       "                                           full_link      id  num_comments  \\\n",
       "0  https://www.reddit.com/r/relationships/comment...  dfmmwc           691   \n",
       "1  https://www.reddit.com/r/relationships/comment...  dfnooe           143   \n",
       "2  https://www.reddit.com/r/relationships/comment...  dfnshq           134   \n",
       "3  https://www.reddit.com/r/relationships/comment...  dfp26n           141   \n",
       "4  https://www.reddit.com/r/relationships/comment...  dfuy2g           531   \n",
       "\n",
       "                                           permalink  score  \\\n",
       "0  /r/relationships/comments/dfmmwc/i_am_26f_7_mo...   2446   \n",
       "1  /r/relationships/comments/dfnooe/should_i_25f_...    907   \n",
       "2  /r/relationships/comments/dfnshq/am_i_20f_over...    183   \n",
       "3  /r/relationships/comments/dfp26n/my_f29_husban...    299   \n",
       "4  /r/relationships/comments/dfuy2g/update_i_28f_...   5906   \n",
       "\n",
       "                                            selftext      subreddit  \\\n",
       "0  I don't even know how to start this post. I wa...  relationships   \n",
       "1  I was with my boyfriend Nate for about a year....  relationships   \n",
       "2  I am using a throwaway because my boyfriend (2...  relationships   \n",
       "3  My husband cannot handle being asked to do som...  relationships   \n",
       "4  Previous post can be found [here](https://www....  relationships   \n",
       "\n",
       "  subreddit_id                                              title  \\\n",
       "0     t5_2qjvn  I am (26f) 7 months pregnant with a married ma...   \n",
       "1     t5_2qjvn  Should I (25F) cut off all my friends (25-27MF...   \n",
       "2     t5_2qjvn  Am I (20F) overreacting or was this joke insen...   \n",
       "3     t5_2qjvn  My [F29] husband of nine years [M36] cannot ha...   \n",
       "4     t5_2qjvn  UPDATE: I (28F) am getting tired of my bf (28M...   \n",
       "\n",
       "                                                 url  \n",
       "0  https://www.reddit.com/r/relationships/comment...  \n",
       "1  https://www.reddit.com/r/relationships/comment...  \n",
       "2  https://www.reddit.com/r/relationships/comment...  \n",
       "3  https://www.reddit.com/r/relationships/comment...  \n",
       "4  https://www.reddit.com/r/relationships/comment...  "
      ]
     },
     "execution_count": 12,
     "metadata": {},
     "output_type": "execute_result"
    }
   ],
   "source": [
    "relationships = pd.read_csv('./datasets/r_relationships.csv')\n",
    "print(relationships.shape)\n",
    "print()\n",
    "for c in relationships.columns:\n",
    "    print(c, relationships[c].dtype)\n",
    "print(relationships.isnull().sum())\n",
    "relationships.head()"
   ]
  },
  {
   "cell_type": "code",
   "execution_count": 13,
   "metadata": {},
   "outputs": [
    {
     "name": "stdout",
     "output_type": "stream",
     "text": [
      "Number of empty posts: 0\n",
      "Number of unique authors: 2453\n",
      "Most popular posts:\n"
     ]
    },
    {
     "data": {
      "text/html": [
       "<div>\n",
       "<style scoped>\n",
       "    .dataframe tbody tr th:only-of-type {\n",
       "        vertical-align: middle;\n",
       "    }\n",
       "\n",
       "    .dataframe tbody tr th {\n",
       "        vertical-align: top;\n",
       "    }\n",
       "\n",
       "    .dataframe thead th {\n",
       "        text-align: right;\n",
       "    }\n",
       "</style>\n",
       "<table border=\"1\" class=\"dataframe\">\n",
       "  <thead>\n",
       "    <tr style=\"text-align: right;\">\n",
       "      <th></th>\n",
       "      <th>author</th>\n",
       "      <th>author_fullname</th>\n",
       "      <th>created_utc</th>\n",
       "      <th>domain</th>\n",
       "      <th>full_link</th>\n",
       "      <th>id</th>\n",
       "      <th>num_comments</th>\n",
       "      <th>permalink</th>\n",
       "      <th>score</th>\n",
       "      <th>selftext</th>\n",
       "      <th>subreddit</th>\n",
       "      <th>subreddit_id</th>\n",
       "      <th>title</th>\n",
       "      <th>url</th>\n",
       "    </tr>\n",
       "  </thead>\n",
       "  <tbody>\n",
       "    <tr>\n",
       "      <td>2234</td>\n",
       "      <td>LadyGrey90</td>\n",
       "      <td>t2_10tayt</td>\n",
       "      <td>1555589790</td>\n",
       "      <td>self.relationships</td>\n",
       "      <td>https://www.reddit.com/r/relationships/comment...</td>\n",
       "      <td>beku6e</td>\n",
       "      <td>760</td>\n",
       "      <td>/r/relationships/comments/beku6e/update_my_28f...</td>\n",
       "      <td>9726</td>\n",
       "      <td>[Original post](https://www.reddit.com/r/relat...</td>\n",
       "      <td>relationships</td>\n",
       "      <td>t5_2qjvn</td>\n",
       "      <td>[UPDATE] My (28F) colleague (30F) didn't invit...</td>\n",
       "      <td>https://www.reddit.com/r/relationships/comment...</td>\n",
       "    </tr>\n",
       "    <tr>\n",
       "      <td>480</td>\n",
       "      <td>Gerrrrtty</td>\n",
       "      <td>t2_4bd4qle8</td>\n",
       "      <td>1567170329</td>\n",
       "      <td>self.relationships</td>\n",
       "      <td>https://www.reddit.com/r/relationships/comment...</td>\n",
       "      <td>cxgnob</td>\n",
       "      <td>185</td>\n",
       "      <td>/r/relationships/comments/cxgnob/my_30f_husban...</td>\n",
       "      <td>8758</td>\n",
       "      <td>Update to https://www.reddit.com/r/relationshi...</td>\n",
       "      <td>relationships</td>\n",
       "      <td>t5_2qjvn</td>\n",
       "      <td>My (30F) husband (32M) impulse bought a dog. [...</td>\n",
       "      <td>https://www.reddit.com/r/relationships/comment...</td>\n",
       "    </tr>\n",
       "    <tr>\n",
       "      <td>726</td>\n",
       "      <td>big_platypus_</td>\n",
       "      <td>t2_39rxxrpc</td>\n",
       "      <td>1565219527</td>\n",
       "      <td>self.relationships</td>\n",
       "      <td>https://www.reddit.com/r/relationships/comment...</td>\n",
       "      <td>cnd80k</td>\n",
       "      <td>538</td>\n",
       "      <td>/r/relationships/comments/cnd80k/update_my_24_...</td>\n",
       "      <td>8107</td>\n",
       "      <td>Link to original post [https://www.reddit.com/...</td>\n",
       "      <td>relationships</td>\n",
       "      <td>t5_2qjvn</td>\n",
       "      <td>UPDATE: My [24 F] boyfriend [26 M] of 6 months...</td>\n",
       "      <td>https://www.reddit.com/r/relationships/comment...</td>\n",
       "    </tr>\n",
       "  </tbody>\n",
       "</table>\n",
       "</div>"
      ],
      "text/plain": [
       "             author author_fullname  created_utc              domain  \\\n",
       "2234     LadyGrey90       t2_10tayt   1555589790  self.relationships   \n",
       "480       Gerrrrtty     t2_4bd4qle8   1567170329  self.relationships   \n",
       "726   big_platypus_     t2_39rxxrpc   1565219527  self.relationships   \n",
       "\n",
       "                                              full_link      id  num_comments  \\\n",
       "2234  https://www.reddit.com/r/relationships/comment...  beku6e           760   \n",
       "480   https://www.reddit.com/r/relationships/comment...  cxgnob           185   \n",
       "726   https://www.reddit.com/r/relationships/comment...  cnd80k           538   \n",
       "\n",
       "                                              permalink  score  \\\n",
       "2234  /r/relationships/comments/beku6e/update_my_28f...   9726   \n",
       "480   /r/relationships/comments/cxgnob/my_30f_husban...   8758   \n",
       "726   /r/relationships/comments/cnd80k/update_my_24_...   8107   \n",
       "\n",
       "                                               selftext      subreddit  \\\n",
       "2234  [Original post](https://www.reddit.com/r/relat...  relationships   \n",
       "480   Update to https://www.reddit.com/r/relationshi...  relationships   \n",
       "726   Link to original post [https://www.reddit.com/...  relationships   \n",
       "\n",
       "     subreddit_id                                              title  \\\n",
       "2234     t5_2qjvn  [UPDATE] My (28F) colleague (30F) didn't invit...   \n",
       "480      t5_2qjvn  My (30F) husband (32M) impulse bought a dog. [...   \n",
       "726      t5_2qjvn  UPDATE: My [24 F] boyfriend [26 M] of 6 months...   \n",
       "\n",
       "                                                    url  \n",
       "2234  https://www.reddit.com/r/relationships/comment...  \n",
       "480   https://www.reddit.com/r/relationships/comment...  \n",
       "726   https://www.reddit.com/r/relationships/comment...  "
      ]
     },
     "metadata": {},
     "output_type": "display_data"
    },
    {
     "name": "stdout",
     "output_type": "stream",
     "text": [
      "Most discussed posts:\n"
     ]
    },
    {
     "data": {
      "text/html": [
       "<div>\n",
       "<style scoped>\n",
       "    .dataframe tbody tr th:only-of-type {\n",
       "        vertical-align: middle;\n",
       "    }\n",
       "\n",
       "    .dataframe tbody tr th {\n",
       "        vertical-align: top;\n",
       "    }\n",
       "\n",
       "    .dataframe thead th {\n",
       "        text-align: right;\n",
       "    }\n",
       "</style>\n",
       "<table border=\"1\" class=\"dataframe\">\n",
       "  <thead>\n",
       "    <tr style=\"text-align: right;\">\n",
       "      <th></th>\n",
       "      <th>author</th>\n",
       "      <th>author_fullname</th>\n",
       "      <th>created_utc</th>\n",
       "      <th>domain</th>\n",
       "      <th>full_link</th>\n",
       "      <th>id</th>\n",
       "      <th>num_comments</th>\n",
       "      <th>permalink</th>\n",
       "      <th>score</th>\n",
       "      <th>selftext</th>\n",
       "      <th>subreddit</th>\n",
       "      <th>subreddit_id</th>\n",
       "      <th>title</th>\n",
       "      <th>url</th>\n",
       "    </tr>\n",
       "  </thead>\n",
       "  <tbody>\n",
       "    <tr>\n",
       "      <td>1934</td>\n",
       "      <td>Bee5431</td>\n",
       "      <td>t2_3h02g4j0</td>\n",
       "      <td>1557250985</td>\n",
       "      <td>self.relationships</td>\n",
       "      <td>https://www.reddit.com/r/relationships/comment...</td>\n",
       "      <td>bltp4x</td>\n",
       "      <td>1166</td>\n",
       "      <td>/r/relationships/comments/bltp4x/im_ready_to_l...</td>\n",
       "      <td>5409</td>\n",
       "      <td>I (31F) am so overwhelmed and literally about ...</td>\n",
       "      <td>relationships</td>\n",
       "      <td>t5_2qjvn</td>\n",
       "      <td>I'm ready to leave my (31F) husband (30M) over...</td>\n",
       "      <td>https://www.reddit.com/r/relationships/comment...</td>\n",
       "    </tr>\n",
       "    <tr>\n",
       "      <td>1419</td>\n",
       "      <td>unbeliavable211</td>\n",
       "      <td>t2_3y6jvse9</td>\n",
       "      <td>1560597460</td>\n",
       "      <td>self.relationships</td>\n",
       "      <td>https://www.reddit.com/r/relationships/comment...</td>\n",
       "      <td>c0w90i</td>\n",
       "      <td>1092</td>\n",
       "      <td>/r/relationships/comments/c0w90i/partner29m_sa...</td>\n",
       "      <td>3884</td>\n",
       "      <td>We've been together for 5 years and in the las...</td>\n",
       "      <td>relationships</td>\n",
       "      <td>t5_2qjvn</td>\n",
       "      <td>Partner[29M] says he will divorce me [26F] if ...</td>\n",
       "      <td>https://www.reddit.com/r/relationships/comment...</td>\n",
       "    </tr>\n",
       "    <tr>\n",
       "      <td>1554</td>\n",
       "      <td>SweetButteryStacks</td>\n",
       "      <td>t2_3tux27b2</td>\n",
       "      <td>1559743398</td>\n",
       "      <td>self.relationships</td>\n",
       "      <td>https://www.reddit.com/r/relationships/comment...</td>\n",
       "      <td>bx2x4a</td>\n",
       "      <td>1077</td>\n",
       "      <td>/r/relationships/comments/bx2x4a/i_29f_think_i...</td>\n",
       "      <td>3574</td>\n",
       "      <td>My bf and I have been together for 8 years. Du...</td>\n",
       "      <td>relationships</td>\n",
       "      <td>t5_2qjvn</td>\n",
       "      <td>I [29/F] think I need to leave my bf[31/M] of ...</td>\n",
       "      <td>https://www.reddit.com/r/relationships/comment...</td>\n",
       "    </tr>\n",
       "  </tbody>\n",
       "</table>\n",
       "</div>"
      ],
      "text/plain": [
       "                  author author_fullname  created_utc              domain  \\\n",
       "1934             Bee5431     t2_3h02g4j0   1557250985  self.relationships   \n",
       "1419     unbeliavable211     t2_3y6jvse9   1560597460  self.relationships   \n",
       "1554  SweetButteryStacks     t2_3tux27b2   1559743398  self.relationships   \n",
       "\n",
       "                                              full_link      id  num_comments  \\\n",
       "1934  https://www.reddit.com/r/relationships/comment...  bltp4x          1166   \n",
       "1419  https://www.reddit.com/r/relationships/comment...  c0w90i          1092   \n",
       "1554  https://www.reddit.com/r/relationships/comment...  bx2x4a          1077   \n",
       "\n",
       "                                              permalink  score  \\\n",
       "1934  /r/relationships/comments/bltp4x/im_ready_to_l...   5409   \n",
       "1419  /r/relationships/comments/c0w90i/partner29m_sa...   3884   \n",
       "1554  /r/relationships/comments/bx2x4a/i_29f_think_i...   3574   \n",
       "\n",
       "                                               selftext      subreddit  \\\n",
       "1934  I (31F) am so overwhelmed and literally about ...  relationships   \n",
       "1419  We've been together for 5 years and in the las...  relationships   \n",
       "1554  My bf and I have been together for 8 years. Du...  relationships   \n",
       "\n",
       "     subreddit_id                                              title  \\\n",
       "1934     t5_2qjvn  I'm ready to leave my (31F) husband (30M) over...   \n",
       "1419     t5_2qjvn  Partner[29M] says he will divorce me [26F] if ...   \n",
       "1554     t5_2qjvn  I [29/F] think I need to leave my bf[31/M] of ...   \n",
       "\n",
       "                                                    url  \n",
       "1934  https://www.reddit.com/r/relationships/comment...  \n",
       "1419  https://www.reddit.com/r/relationships/comment...  \n",
       "1554  https://www.reddit.com/r/relationships/comment...  "
      ]
     },
     "metadata": {},
     "output_type": "display_data"
    }
   ],
   "source": [
    "get_info(relationships)"
   ]
  },
  {
   "cell_type": "code",
   "execution_count": 14,
   "metadata": {},
   "outputs": [
    {
     "data": {
      "text/plain": [
       "(2508, 14)"
      ]
     },
     "execution_count": 14,
     "metadata": {},
     "output_type": "execute_result"
    }
   ],
   "source": [
    "relationships.shape"
   ]
  },
  {
   "cell_type": "code",
   "execution_count": 15,
   "metadata": {},
   "outputs": [
    {
     "data": {
      "text/plain": [
       "Index(['author', 'author_fullname', 'created_utc', 'domain', 'full_link', 'id',\n",
       "       'num_comments', 'permalink', 'score', 'selftext', 'subreddit',\n",
       "       'subreddit_id', 'title', 'url'],\n",
       "      dtype='object')"
      ]
     },
     "execution_count": 15,
     "metadata": {},
     "output_type": "execute_result"
    }
   ],
   "source": [
    "relationships.columns"
   ]
  },
  {
   "cell_type": "code",
   "execution_count": 16,
   "metadata": {},
   "outputs": [
    {
     "data": {
      "text/html": [
       "<div>\n",
       "<style scoped>\n",
       "    .dataframe tbody tr th:only-of-type {\n",
       "        vertical-align: middle;\n",
       "    }\n",
       "\n",
       "    .dataframe tbody tr th {\n",
       "        vertical-align: top;\n",
       "    }\n",
       "\n",
       "    .dataframe thead th {\n",
       "        text-align: right;\n",
       "    }\n",
       "</style>\n",
       "<table border=\"1\" class=\"dataframe\">\n",
       "  <thead>\n",
       "    <tr style=\"text-align: right;\">\n",
       "      <th></th>\n",
       "      <th>op_text</th>\n",
       "      <th>is_legal</th>\n",
       "    </tr>\n",
       "  </thead>\n",
       "  <tbody>\n",
       "    <tr>\n",
       "      <td>0</td>\n",
       "      <td>I am (26f) 7 months pregnant with a married ma...</td>\n",
       "      <td>0</td>\n",
       "    </tr>\n",
       "    <tr>\n",
       "      <td>1</td>\n",
       "      <td>Should I (25F) cut off all my friends (25-27MF...</td>\n",
       "      <td>0</td>\n",
       "    </tr>\n",
       "    <tr>\n",
       "      <td>2</td>\n",
       "      <td>Am I (20F) overreacting or was this joke insen...</td>\n",
       "      <td>0</td>\n",
       "    </tr>\n",
       "    <tr>\n",
       "      <td>3</td>\n",
       "      <td>My [F29] husband of nine years [M36] cannot ha...</td>\n",
       "      <td>0</td>\n",
       "    </tr>\n",
       "    <tr>\n",
       "      <td>4</td>\n",
       "      <td>UPDATE: I (28F) am getting tired of my bf (28M...</td>\n",
       "      <td>0</td>\n",
       "    </tr>\n",
       "  </tbody>\n",
       "</table>\n",
       "</div>"
      ],
      "text/plain": [
       "                                             op_text  is_legal\n",
       "0  I am (26f) 7 months pregnant with a married ma...         0\n",
       "1  Should I (25F) cut off all my friends (25-27MF...         0\n",
       "2  Am I (20F) overreacting or was this joke insen...         0\n",
       "3  My [F29] husband of nine years [M36] cannot ha...         0\n",
       "4  UPDATE: I (28F) am getting tired of my bf (28M...         0"
      ]
     },
     "execution_count": 16,
     "metadata": {},
     "output_type": "execute_result"
    }
   ],
   "source": [
    "relationships['op_text'] = relationships['title'] + \" \" + relationships['selftext']\n",
    "relationship_input = relationships[['op_text']].copy()\n",
    "relationship_input['is_legal'] = 0\n",
    "relationship_input.head()"
   ]
  },
  {
   "cell_type": "markdown",
   "metadata": {},
   "source": [
    "## Joining"
   ]
  },
  {
   "cell_type": "markdown",
   "metadata": {},
   "source": [
    "### making them the same shape"
   ]
  },
  {
   "cell_type": "code",
   "execution_count": 17,
   "metadata": {},
   "outputs": [
    {
     "data": {
      "text/plain": [
       "(2471, 2)"
      ]
     },
     "execution_count": 17,
     "metadata": {},
     "output_type": "execute_result"
    }
   ],
   "source": [
    "legal_input.shape"
   ]
  },
  {
   "cell_type": "code",
   "execution_count": 18,
   "metadata": {},
   "outputs": [
    {
     "data": {
      "text/plain": [
       "(2508, 2)"
      ]
     },
     "execution_count": 18,
     "metadata": {},
     "output_type": "execute_result"
    }
   ],
   "source": [
    "relationship_input.shape"
   ]
  },
  {
   "cell_type": "code",
   "execution_count": 19,
   "metadata": {},
   "outputs": [
    {
     "data": {
      "text/plain": [
       "(2471, 2)"
      ]
     },
     "execution_count": 19,
     "metadata": {},
     "output_type": "execute_result"
    }
   ],
   "source": [
    "relationship_input = relationship_input[:legal_input.shape[0]]\n",
    "relationship_input.shape"
   ]
  },
  {
   "cell_type": "code",
   "execution_count": 20,
   "metadata": {},
   "outputs": [
    {
     "data": {
      "text/plain": [
       "(4942, 2)"
      ]
     },
     "execution_count": 20,
     "metadata": {},
     "output_type": "execute_result"
    }
   ],
   "source": [
    "df = pd.concat([legal_input, relationship_input])\n",
    "df.shape"
   ]
  },
  {
   "cell_type": "code",
   "execution_count": 21,
   "metadata": {},
   "outputs": [
    {
     "data": {
      "text/plain": [
       "Index(['op_text', 'is_legal'], dtype='object')"
      ]
     },
     "execution_count": 21,
     "metadata": {},
     "output_type": "execute_result"
    }
   ],
   "source": [
    "df.columns"
   ]
  },
  {
   "cell_type": "code",
   "execution_count": 22,
   "metadata": {},
   "outputs": [
    {
     "data": {
      "text/plain": [
       "op_text     0\n",
       "is_legal    0\n",
       "dtype: int64"
      ]
     },
     "execution_count": 22,
     "metadata": {},
     "output_type": "execute_result"
    }
   ],
   "source": [
    "df.isnull().sum()"
   ]
  },
  {
   "cell_type": "code",
   "execution_count": 23,
   "metadata": {},
   "outputs": [
    {
     "name": "stdout",
     "output_type": "stream",
     "text": [
      "0    2471\n",
      "Name: is_legal, dtype: int64\n",
      "1    2471\n",
      "Name: is_legal, dtype: int64\n",
      "1    2471\n",
      "0    2471\n",
      "Name: is_legal, dtype: int64\n"
     ]
    }
   ],
   "source": [
    "print(relationship_input['is_legal'].value_counts())\n",
    "print(legal_input['is_legal'].value_counts())\n",
    "print(df['is_legal'].value_counts())"
   ]
  },
  {
   "cell_type": "code",
   "execution_count": 24,
   "metadata": {},
   "outputs": [
    {
     "data": {
      "text/html": [
       "<div>\n",
       "<style scoped>\n",
       "    .dataframe tbody tr th:only-of-type {\n",
       "        vertical-align: middle;\n",
       "    }\n",
       "\n",
       "    .dataframe tbody tr th {\n",
       "        vertical-align: top;\n",
       "    }\n",
       "\n",
       "    .dataframe thead th {\n",
       "        text-align: right;\n",
       "    }\n",
       "</style>\n",
       "<table border=\"1\" class=\"dataframe\">\n",
       "  <thead>\n",
       "    <tr style=\"text-align: right;\">\n",
       "      <th></th>\n",
       "      <th>op_text</th>\n",
       "      <th>is_legal</th>\n",
       "    </tr>\n",
       "  </thead>\n",
       "  <tbody>\n",
       "    <tr>\n",
       "      <td>0</td>\n",
       "      <td>My identity was erased. How do I get it back? ...</td>\n",
       "      <td>1</td>\n",
       "    </tr>\n",
       "    <tr>\n",
       "      <td>1</td>\n",
       "      <td>I purchased a vehicle and was assaulted by the...</td>\n",
       "      <td>1</td>\n",
       "    </tr>\n",
       "    <tr>\n",
       "      <td>2</td>\n",
       "      <td>Made an OSHA complaint about hazardous working...</td>\n",
       "      <td>1</td>\n",
       "    </tr>\n",
       "    <tr>\n",
       "      <td>3</td>\n",
       "      <td>[TN] Police Officer wouldn't accept my insuran...</td>\n",
       "      <td>1</td>\n",
       "    </tr>\n",
       "    <tr>\n",
       "      <td>4</td>\n",
       "      <td>My GM is strongly implying ill be Terminated o...</td>\n",
       "      <td>1</td>\n",
       "    </tr>\n",
       "  </tbody>\n",
       "</table>\n",
       "</div>"
      ],
      "text/plain": [
       "                                             op_text  is_legal\n",
       "0  My identity was erased. How do I get it back? ...         1\n",
       "1  I purchased a vehicle and was assaulted by the...         1\n",
       "2  Made an OSHA complaint about hazardous working...         1\n",
       "3  [TN] Police Officer wouldn't accept my insuran...         1\n",
       "4  My GM is strongly implying ill be Terminated o...         1"
      ]
     },
     "execution_count": 24,
     "metadata": {},
     "output_type": "execute_result"
    }
   ],
   "source": [
    "df.head()"
   ]
  },
  {
   "cell_type": "markdown",
   "metadata": {},
   "source": [
    "## Cleaning"
   ]
  },
  {
   "cell_type": "code",
   "execution_count": 25,
   "metadata": {},
   "outputs": [
    {
     "name": "stdout",
     "output_type": "stream",
     "text": [
      "before: ['[TN] Police Officer wouldn\\'t accept my insurance card I\\'ll do my best to keep this brief. I was pulled over this morning and the officer asked for my DL and insurance card. I tried to show him my insurance info on my phone, but he said that he could only accept a card. After getting permission to look through my glove box, I found the printed (on regular paper) info that my insurance company had provided. The officer wouldn\\'t accept that either as it had to be a \"card.\" I\\'m assuming he wanted it on card stock. I asked why he wouldn\\'t accept either form of information, and he said it was up to his discretion as to what form of proof of insurance he would accept. \\n\\nAnyway, now I have a ticket and a court date for a violation of the Financial Responsibility law. \\n\\nCan I fight this at the court date, or am I out of luck because I didn\\'t have a \"card?\"\\n\\nAlso, I thought that Tennessee had a system where LEOs could check to see if a driver had insurance. Why couldn\\'t that be proof that I was insured?'\n",
      " 'My [F29] husband of nine years [M36] cannot handle even a tiny amount of criticism. It\\'s putting a strain on our relationship. My husband cannot handle being asked to do something differently no matter how gently I ask. If I tell him he is doing something the wrong way, or he\\'s wrong about something, he takes it as a personal attack. He will be angry for whole evenings if I correct him in any way shape or form. I try to choose my battles and words carefully, but sometimes it seems like no big deal until I see how upset he gets. Ex. Recently I asked him to please not use metal utensils on our cast iron pan. He immediately bristled and asked me why I don\\'t trust him. It escalated from there despite me trying to give him space, offer a hug, and an apology for upsetting him. \\n\\nIt\\'s always like that. He will spend the whole night after asking \"is this the RIGHT WAY to turn on the oven?\" \"Am I doing THIS wrong too?\" Worse still, he will always insist I haven\\'t apologized for anything even though I know I have. It makes me feel like I\\'m insane. In one conversation he will claim he isn\\'t angry at me but also will tell me he wants, and has not received an apology. When I tell him I apologized he gets so angry and will tell me I haven\\'t.\\n\\n I just feel like it\\'s very normal to do things like ask if someone can put something back when they\\'re done, or use a different utensil when cooking. I do make a point to ask gently. I only ask because I can\\'t find my stuff, or he\\'s already ruined a few good pans. These aren\\'t the only examples but I hope you get the idea.\\n\\nWhen I\\'ve talked to him about it, he will say that he is so upset at himself because he tried so hard to be \"good\" for me but I always find something that he does wrong. I took this to heart the first time he said it and really tried to let it go when I would have in the past spoken up and asked him to change what/how he is doing something. But it seems like it doesn\\'t matter. If I even give a mild criticism or request that he do something differently it turns into a huge problem. \\n\\nI\\'ve tried to be less critical. I\\'ve tried to be gentle with my requests. Nothing seems to help. He will spend the entire evenings/days angry because I ask that he do something differently. What the heck do I do? I know counseling is an option, but I\\'m looking for advice I can apply on my own. I am open to modifying my own behavior and I recognize I have a part in the problem. \\n\\n\\n\\nTL;DR: Husband cannot take any amount of criticism in stride no matter how gently I deliver it. What do?']\n",
      "\n",
      "after: tn police officer wouldn t accept my insurance card i ll do my best to keep this brief i was pulled over this morning and the officer asked for my dl and insurance card i tried to show him my insurance info on my phone but he said that he could only accept a card after getting permission to look through my glove box i found the printed on regular paper info that my insurance company had provided the officer wouldn t accept that either as it had to be a card i m assuming he wanted it on card stock i asked why he wouldn t accept either form of information and he said it was up to his discretion as to what form of proof of insurance he would accept n nanyway now i have a ticket and a court date for a violation of the financial responsibility law n ncan i fight this at the court date or am i out of luck because i didn t have a card n nalso i thought that tennessee had a system where leos could check to see if a driver had insurance why couldn t that be proof that i was insured my f husband of nine years m cannot handle even a tiny amount of criticism it s putting a strain on our relationship my husband cannot handle being asked to do something differently no matter how gently i ask if i tell him he is doing something the wrong way or he s wrong about something he takes it as a personal attack he will be angry for whole evenings if i correct him in any way shape or form i try to choose my battles and words carefully but sometimes it seems like no big deal until i see how upset he gets ex recently i asked him to please not use metal utensils on our cast iron pan he immediately bristled and asked me why i don t trust him it escalated from there despite me trying to give him space offer a hug and an apology for upsetting him n nit s always like that he will spend the whole night after asking is this the right way to turn on the oven am i doing this wrong too worse still he will always insist i haven t apologized for anything even though i know i have it makes me feel like i m insane in one conversation he will claim he isn t angry at me but also will tell me he wants and has not received an apology when i tell him i apologized he gets so angry and will tell me i haven t n n i just feel like it s very normal to do things like ask if someone can put something back when they re done or use a different utensil when cooking i do make a point to ask gently i only ask because i can t find my stuff or he s already ruined a few good pans these aren t the only examples but i hope you get the idea n nwhen i ve talked to him about it he will say that he is so upset at himself because he tried so hard to be good for me but i always find something that he does wrong i took this to heart the first time he said it and really tried to let it go when i would have in the past spoken up and asked him to change what how he is doing something but it seems like it doesn t matter if i even give a mild criticism or request that he do something differently it turns into a huge problem n ni ve tried to be less critical i ve tried to be gentle with my requests nothing seems to help he will spend the entire evenings days angry because i ask that he do something differently what the heck do i do i know counseling is an option but i m looking for advice i can apply on my own i am open to modifying my own behavior and i recognize i have a part in the problem n n n ntl dr husband cannot take any amount of criticism in stride no matter how gently i deliver it what do\n"
     ]
    }
   ],
   "source": [
    "print('before:', df['op_text'][3].values)\n",
    "print()\n",
    "print('after:', clean_post(df['op_text'][3].values))"
   ]
  },
  {
   "cell_type": "code",
   "execution_count": 26,
   "metadata": {},
   "outputs": [],
   "source": [
    "clean_df = df.copy()\n",
    "clean_df['op_text'] = clean_df['op_text'].apply(clean_post)"
   ]
  },
  {
   "cell_type": "code",
   "execution_count": 27,
   "metadata": {},
   "outputs": [
    {
     "data": {
      "text/html": [
       "<div>\n",
       "<style scoped>\n",
       "    .dataframe tbody tr th:only-of-type {\n",
       "        vertical-align: middle;\n",
       "    }\n",
       "\n",
       "    .dataframe tbody tr th {\n",
       "        vertical-align: top;\n",
       "    }\n",
       "\n",
       "    .dataframe thead th {\n",
       "        text-align: right;\n",
       "    }\n",
       "</style>\n",
       "<table border=\"1\" class=\"dataframe\">\n",
       "  <thead>\n",
       "    <tr style=\"text-align: right;\">\n",
       "      <th></th>\n",
       "      <th>op_text</th>\n",
       "      <th>is_legal</th>\n",
       "    </tr>\n",
       "  </thead>\n",
       "  <tbody>\n",
       "    <tr>\n",
       "      <td>0</td>\n",
       "      <td>my identity was erased how do i get it back mo...</td>\n",
       "      <td>1</td>\n",
       "    </tr>\n",
       "    <tr>\n",
       "      <td>1</td>\n",
       "      <td>i purchased a vehicle and was assaulted by the...</td>\n",
       "      <td>1</td>\n",
       "    </tr>\n",
       "    <tr>\n",
       "      <td>2</td>\n",
       "      <td>made an osha complaint about hazardous working...</td>\n",
       "      <td>1</td>\n",
       "    </tr>\n",
       "    <tr>\n",
       "      <td>3</td>\n",
       "      <td>tn police officer wouldn t accept my insurance...</td>\n",
       "      <td>1</td>\n",
       "    </tr>\n",
       "    <tr>\n",
       "      <td>4</td>\n",
       "      <td>my gm is strongly implying ill be terminated o...</td>\n",
       "      <td>1</td>\n",
       "    </tr>\n",
       "  </tbody>\n",
       "</table>\n",
       "</div>"
      ],
      "text/plain": [
       "                                             op_text  is_legal\n",
       "0  my identity was erased how do i get it back mo...         1\n",
       "1  i purchased a vehicle and was assaulted by the...         1\n",
       "2  made an osha complaint about hazardous working...         1\n",
       "3  tn police officer wouldn t accept my insurance...         1\n",
       "4  my gm is strongly implying ill be terminated o...         1"
      ]
     },
     "execution_count": 27,
     "metadata": {},
     "output_type": "execute_result"
    }
   ],
   "source": [
    "clean_df.head()"
   ]
  },
  {
   "cell_type": "markdown",
   "metadata": {},
   "source": [
    "## Train/Test Split"
   ]
  },
  {
   "cell_type": "code",
   "execution_count": 28,
   "metadata": {},
   "outputs": [
    {
     "data": {
      "text/plain": [
       "2466    m my relationship with my gf f has become bizz...\n",
       "2467    boyfriend s m unemployed pursuit of esports ca...\n",
       "2468    am i f an asshole for being grossed out by my ...\n",
       "2469    my f boyfriend m has been acting awkward aroun...\n",
       "2470    my f bf m checks out every single woman i m ab...\n",
       "Name: op_text, dtype: object"
      ]
     },
     "metadata": {},
     "output_type": "display_data"
    }
   ],
   "source": [
    "X = clean_df['op_text']\n",
    "display(X.tail())"
   ]
  },
  {
   "cell_type": "code",
   "execution_count": 29,
   "metadata": {},
   "outputs": [
    {
     "data": {
      "text/plain": [
       "2466    0\n",
       "2467    0\n",
       "2468    0\n",
       "2469    0\n",
       "2470    0\n",
       "Name: is_legal, dtype: int64"
      ]
     },
     "metadata": {},
     "output_type": "display_data"
    }
   ],
   "source": [
    "y = clean_df['is_legal']\n",
    "display(y.tail())"
   ]
  },
  {
   "cell_type": "code",
   "execution_count": 30,
   "metadata": {},
   "outputs": [
    {
     "name": "stdout",
     "output_type": "stream",
     "text": [
      "check distribution of y, are the classes unbalanced?\n"
     ]
    },
    {
     "data": {
      "text/plain": [
       "1    0.5\n",
       "0    0.5\n",
       "Name: is_legal, dtype: float64"
      ]
     },
     "metadata": {},
     "output_type": "display_data"
    }
   ],
   "source": [
    "print('check distribution of y, are the classes unbalanced?')\n",
    "display(y.value_counts(normalize=True))"
   ]
  },
  {
   "cell_type": "code",
   "execution_count": 31,
   "metadata": {},
   "outputs": [],
   "source": [
    "X_train, X_test, y_train, y_test = train_test_split(X, y, test_size = 0.25, random_state=23)"
   ]
  },
  {
   "cell_type": "markdown",
   "metadata": {},
   "source": [
    "## Logistic Regression\n",
    "\n",
    "[**return to top of notebook**](#Love-Problems-or-Law-Problems?)"
   ]
  },
  {
   "cell_type": "code",
   "execution_count": 32,
   "metadata": {},
   "outputs": [],
   "source": [
    "pipe = Pipeline([\n",
    "    ('vectorizer', CountVectorizer()),\n",
    "    ('lr', LogisticRegression())\n",
    "])\n",
    "\n",
    "pipe_params = {\n",
    "    'vectorizer':[CountVectorizer(), TfidfVectorizer()],\n",
    "    'vectorizer__max_features':[100, 500],\n",
    "    'vectorizer__stop_words':[None, stopwords.words('english')],\n",
    "    'vectorizer__ngram_range':[(1,1), (1,2)]\n",
    "}\n",
    "\n",
    "gs = GridSearchCV(pipe,\n",
    "                 pipe_params,\n",
    "                 cv=5,\n",
    "                 verbose=1)"
   ]
  },
  {
   "cell_type": "code",
   "execution_count": 33,
   "metadata": {
    "scrolled": false
   },
   "outputs": [
    {
     "name": "stdout",
     "output_type": "stream",
     "text": [
      "Fitting 5 folds for each of 16 candidates, totalling 80 fits\n"
     ]
    },
    {
     "name": "stderr",
     "output_type": "stream",
     "text": [
      "[Parallel(n_jobs=1)]: Using backend SequentialBackend with 1 concurrent workers.\n",
      "/Users/shreya/anaconda3/lib/python3.7/site-packages/sklearn/linear_model/logistic.py:433: FutureWarning: Default solver will be changed to 'lbfgs' in 0.22. Specify a solver to silence this warning.\n",
      "  FutureWarning)\n",
      "[Parallel(n_jobs=1)]: Done  80 out of  80 | elapsed:  3.6min finished\n"
     ]
    },
    {
     "name": "stdout",
     "output_type": "stream",
     "text": [
      "CPU times: user 3min 36s, sys: 3.37 s, total: 3min 39s\n",
      "Wall time: 3min 39s\n"
     ]
    },
    {
     "data": {
      "text/plain": [
       "GridSearchCV(cv=5, error_score='raise-deprecating',\n",
       "       estimator=Pipeline(memory=None,\n",
       "     steps=[('vectorizer', CountVectorizer(analyzer='word', binary=False, decode_error='strict',\n",
       "        dtype=<class 'numpy.int64'>, encoding='utf-8', input='content',\n",
       "        lowercase=True, max_df=1.0, max_features=None, min_df=1,\n",
       "        ngram_range=(1, 1), preprocessor=None, stop_words=None,\n",
       "       ...penalty='l2', random_state=None, solver='warn',\n",
       "          tol=0.0001, verbose=0, warm_start=False))]),\n",
       "       fit_params=None, iid='warn', n_jobs=None,\n",
       "       param_grid={'vectorizer': [CountVectorizer(analyzer='word', binary=False, decode_error='strict',\n",
       "        dtype=<class 'numpy.int64'>, encoding='utf-8', input='content',\n",
       "        lowercase=True, max_df=1.0, max_features=500, min_df=1,\n",
       "        ngram_range=(1, 2), preprocessor=None,\n",
       "        stop_words=[...en', \"weren't\", 'won', \"won't\", 'wouldn', \"wouldn't\"]], 'vectorizer__ngram_range': [(1, 1), (1, 2)]},\n",
       "       pre_dispatch='2*n_jobs', refit=True, return_train_score='warn',\n",
       "       scoring=None, verbose=1)"
      ]
     },
     "execution_count": 33,
     "metadata": {},
     "output_type": "execute_result"
    }
   ],
   "source": [
    "%%time\n",
    "\n",
    "gs.fit(X_train, y_train)"
   ]
  },
  {
   "cell_type": "code",
   "execution_count": 34,
   "metadata": {},
   "outputs": [
    {
     "name": "stdout",
     "output_type": "stream",
     "text": [
      "Best score: 0.9738262277388019\n",
      "\n",
      "Best params:\n",
      "\tvectorizer CountVectorizer(analyzer='word', binary=False, decode_error='strict',\n",
      "        dtype=<class 'numpy.int64'>, encoding='utf-8', input='content',\n",
      "        lowercase=True, max_df=1.0, max_features=500, min_df=1,\n",
      "        ngram_range=(1, 2), preprocessor=None,\n",
      "        stop_words=['i', 'me', 'my', 'myself', 'we', 'our', 'ours', 'ourselves', 'you', \"you're\", \"you've\", \"you'll\", \"you'd\", 'your', 'yours', 'yourself', 'yourselves', 'he', 'him', 'his', 'himself', 'she', \"she's\", 'her', 'hers', 'herself', 'it', \"it's\", 'its', 'itself', 'they', 'them', 'their', 'theirs',... 'shouldn', \"shouldn't\", 'wasn', \"wasn't\", 'weren', \"weren't\", 'won', \"won't\", 'wouldn', \"wouldn't\"],\n",
      "        strip_accents=None, token_pattern='(?u)\\\\b\\\\w\\\\w+\\\\b',\n",
      "        tokenizer=None, vocabulary=None)\n",
      "\n",
      "\tvectorizer__max_features 500\n",
      "\n",
      "\tvectorizer__ngram_range (1, 2)\n",
      "\n",
      "\tvectorizer__stop_words ['i', 'me', 'my', 'myself', 'we', 'our', 'ours', 'ourselves', 'you', \"you're\", \"you've\", \"you'll\", \"you'd\", 'your', 'yours', 'yourself', 'yourselves', 'he', 'him', 'his', 'himself', 'she', \"she's\", 'her', 'hers', 'herself', 'it', \"it's\", 'its', 'itself', 'they', 'them', 'their', 'theirs', 'themselves', 'what', 'which', 'who', 'whom', 'this', 'that', \"that'll\", 'these', 'those', 'am', 'is', 'are', 'was', 'were', 'be', 'been', 'being', 'have', 'has', 'had', 'having', 'do', 'does', 'did', 'doing', 'a', 'an', 'the', 'and', 'but', 'if', 'or', 'because', 'as', 'until', 'while', 'of', 'at', 'by', 'for', 'with', 'about', 'against', 'between', 'into', 'through', 'during', 'before', 'after', 'above', 'below', 'to', 'from', 'up', 'down', 'in', 'out', 'on', 'off', 'over', 'under', 'again', 'further', 'then', 'once', 'here', 'there', 'when', 'where', 'why', 'how', 'all', 'any', 'both', 'each', 'few', 'more', 'most', 'other', 'some', 'such', 'no', 'nor', 'not', 'only', 'own', 'same', 'so', 'than', 'too', 'very', 's', 't', 'can', 'will', 'just', 'don', \"don't\", 'should', \"should've\", 'now', 'd', 'll', 'm', 'o', 're', 've', 'y', 'ain', 'aren', \"aren't\", 'couldn', \"couldn't\", 'didn', \"didn't\", 'doesn', \"doesn't\", 'hadn', \"hadn't\", 'hasn', \"hasn't\", 'haven', \"haven't\", 'isn', \"isn't\", 'ma', 'mightn', \"mightn't\", 'mustn', \"mustn't\", 'needn', \"needn't\", 'shan', \"shan't\", 'shouldn', \"shouldn't\", 'wasn', \"wasn't\", 'weren', \"weren't\", 'won', \"won't\", 'wouldn', \"wouldn't\"]\n",
      "\n",
      "\n",
      "Training score: 1.0\n",
      "Test score: 0.9733009708737864\n",
      "Scorer: <function _passthrough_scorer at 0x1a22b6fd90>\n",
      "\n",
      "Baseline:\n",
      "1    0.500809\n",
      "0    0.499191\n",
      "Name: is_legal, dtype: float64\n",
      "\n",
      "[0 1 1 1 1 1 1 1 1 0 0 0 1 1 1 0 0 0 1 0]\n"
     ]
    },
    {
     "data": {
      "text/markdown": [
       "#### Confusion Matrix"
      ],
      "text/plain": [
       "<IPython.core.display.Markdown object>"
      ]
     },
     "metadata": {},
     "output_type": "display_data"
    },
    {
     "data": {
      "text/html": [
       "<div>\n",
       "<style scoped>\n",
       "    .dataframe tbody tr th:only-of-type {\n",
       "        vertical-align: middle;\n",
       "    }\n",
       "\n",
       "    .dataframe tbody tr th {\n",
       "        vertical-align: top;\n",
       "    }\n",
       "\n",
       "    .dataframe thead th {\n",
       "        text-align: right;\n",
       "    }\n",
       "</style>\n",
       "<table border=\"1\" class=\"dataframe\">\n",
       "  <thead>\n",
       "    <tr style=\"text-align: right;\">\n",
       "      <th></th>\n",
       "      <th>predicted relationship</th>\n",
       "      <th>predicted legal</th>\n",
       "    </tr>\n",
       "  </thead>\n",
       "  <tbody>\n",
       "    <tr>\n",
       "      <td>actual relationship</td>\n",
       "      <td>600</td>\n",
       "      <td>17</td>\n",
       "    </tr>\n",
       "    <tr>\n",
       "      <td>actual legal</td>\n",
       "      <td>16</td>\n",
       "      <td>603</td>\n",
       "    </tr>\n",
       "  </tbody>\n",
       "</table>\n",
       "</div>"
      ],
      "text/plain": [
       "                     predicted relationship  predicted legal\n",
       "actual relationship                     600               17\n",
       "actual legal                             16              603"
      ]
     },
     "metadata": {},
     "output_type": "display_data"
    },
    {
     "data": {
      "text/markdown": [
       "#### Performance Metrics"
      ],
      "text/plain": [
       "<IPython.core.display.Markdown object>"
      ]
     },
     "metadata": {},
     "output_type": "display_data"
    },
    {
     "data": {
      "text/markdown": [
       "| Metric  | Score\n",
       "|--------|--------------------\n",
       "| Accuracy | 0.973 |\n",
       "| Precision | 0.973 |\n",
       "| Sensitivity | 0.974 |\n",
       "| Specificity | 0.972 |\n",
       "| Misclassification Rate | 0.027 |"
      ],
      "text/plain": [
       "<IPython.core.display.Markdown object>"
      ]
     },
     "metadata": {},
     "output_type": "display_data"
    }
   ],
   "source": [
    "gs_pipe_performance(gs, X_train, X_test, y_train, y_test)"
   ]
  },
  {
   "cell_type": "markdown",
   "metadata": {},
   "source": [
    "### Looking into coefficients"
   ]
  },
  {
   "cell_type": "code",
   "execution_count": 35,
   "metadata": {},
   "outputs": [],
   "source": [
    "cvec = gs.best_estimator_.named_steps['vectorizer']\n",
    "logreg = gs.best_estimator_.named_steps['lr']"
   ]
  },
  {
   "cell_type": "code",
   "execution_count": 36,
   "metadata": {},
   "outputs": [
    {
     "data": {
      "text/html": [
       "<div>\n",
       "<style scoped>\n",
       "    .dataframe tbody tr th:only-of-type {\n",
       "        vertical-align: middle;\n",
       "    }\n",
       "\n",
       "    .dataframe tbody tr th {\n",
       "        vertical-align: top;\n",
       "    }\n",
       "\n",
       "    .dataframe thead th {\n",
       "        text-align: right;\n",
       "    }\n",
       "</style>\n",
       "<table border=\"1\" class=\"dataframe\">\n",
       "  <thead>\n",
       "    <tr style=\"text-align: right;\">\n",
       "      <th></th>\n",
       "      <th>0</th>\n",
       "      <th>abs</th>\n",
       "    </tr>\n",
       "  </thead>\n",
       "  <tbody>\n",
       "    <tr>\n",
       "      <td>tldr</td>\n",
       "      <td>-3.671758</td>\n",
       "      <td>3.671758</td>\n",
       "    </tr>\n",
       "    <tr>\n",
       "      <td>tl dr</td>\n",
       "      <td>-2.499071</td>\n",
       "      <td>2.499071</td>\n",
       "    </tr>\n",
       "    <tr>\n",
       "      <td>tl</td>\n",
       "      <td>-2.499024</td>\n",
       "      <td>2.499024</td>\n",
       "    </tr>\n",
       "    <tr>\n",
       "      <td>legal</td>\n",
       "      <td>1.444590</td>\n",
       "      <td>1.444590</td>\n",
       "    </tr>\n",
       "    <tr>\n",
       "      <td>lawyer</td>\n",
       "      <td>1.220051</td>\n",
       "      <td>1.220051</td>\n",
       "    </tr>\n",
       "  </tbody>\n",
       "</table>\n",
       "</div>"
      ],
      "text/plain": [
       "               0       abs\n",
       "tldr   -3.671758  3.671758\n",
       "tl dr  -2.499071  2.499071\n",
       "tl     -2.499024  2.499024\n",
       "legal   1.444590  1.444590\n",
       "lawyer  1.220051  1.220051"
      ]
     },
     "execution_count": 36,
     "metadata": {},
     "output_type": "execute_result"
    }
   ],
   "source": [
    "coef_df = pd.DataFrame(logreg.coef_, columns=cvec.get_feature_names()).T\n",
    "coef_df['abs'] = abs(coef_df[0])\n",
    "coef_df.sort_values('abs', ascending=False).head()"
   ]
  },
  {
   "cell_type": "code",
   "execution_count": 37,
   "metadata": {},
   "outputs": [
    {
     "name": "stdout",
     "output_type": "stream",
     "text": [
      "best predictors for r/legaladvice\n"
     ]
    },
    {
     "data": {
      "text/html": [
       "<div>\n",
       "<style scoped>\n",
       "    .dataframe tbody tr th:only-of-type {\n",
       "        vertical-align: middle;\n",
       "    }\n",
       "\n",
       "    .dataframe tbody tr th {\n",
       "        vertical-align: top;\n",
       "    }\n",
       "\n",
       "    .dataframe thead th {\n",
       "        text-align: right;\n",
       "    }\n",
       "</style>\n",
       "<table border=\"1\" class=\"dataframe\">\n",
       "  <thead>\n",
       "    <tr style=\"text-align: right;\">\n",
       "      <th></th>\n",
       "      <th>0</th>\n",
       "    </tr>\n",
       "  </thead>\n",
       "  <tbody>\n",
       "    <tr>\n",
       "      <td>legal</td>\n",
       "      <td>1.444590</td>\n",
       "    </tr>\n",
       "    <tr>\n",
       "      <td>lawyer</td>\n",
       "      <td>1.220051</td>\n",
       "    </tr>\n",
       "    <tr>\n",
       "      <td>court</td>\n",
       "      <td>0.985756</td>\n",
       "    </tr>\n",
       "    <tr>\n",
       "      <td>owner</td>\n",
       "      <td>0.856654</td>\n",
       "    </tr>\n",
       "    <tr>\n",
       "      <td>report</td>\n",
       "      <td>0.827397</td>\n",
       "    </tr>\n",
       "    <tr>\n",
       "      <td>live</td>\n",
       "      <td>0.715508</td>\n",
       "    </tr>\n",
       "    <tr>\n",
       "      <td>case</td>\n",
       "      <td>0.683285</td>\n",
       "    </tr>\n",
       "    <tr>\n",
       "      <td>property</td>\n",
       "      <td>0.645840</td>\n",
       "    </tr>\n",
       "    <tr>\n",
       "      <td>kind</td>\n",
       "      <td>0.638253</td>\n",
       "    </tr>\n",
       "    <tr>\n",
       "      <td>order</td>\n",
       "      <td>0.632882</td>\n",
       "    </tr>\n",
       "  </tbody>\n",
       "</table>\n",
       "</div>"
      ],
      "text/plain": [
       "                 0\n",
       "legal     1.444590\n",
       "lawyer    1.220051\n",
       "court     0.985756\n",
       "owner     0.856654\n",
       "report    0.827397\n",
       "live      0.715508\n",
       "case      0.683285\n",
       "property  0.645840\n",
       "kind      0.638253\n",
       "order     0.632882"
      ]
     },
     "execution_count": 37,
     "metadata": {},
     "output_type": "execute_result"
    }
   ],
   "source": [
    "print('best predictors for r/legaladvice')\n",
    "coef_df[[0]].sort_values(0, ascending=False).head(10)"
   ]
  },
  {
   "cell_type": "code",
   "execution_count": 38,
   "metadata": {},
   "outputs": [
    {
     "name": "stdout",
     "output_type": "stream",
     "text": [
      "best predictors for r/relationships\n"
     ]
    },
    {
     "data": {
      "text/html": [
       "<div>\n",
       "<style scoped>\n",
       "    .dataframe tbody tr th:only-of-type {\n",
       "        vertical-align: middle;\n",
       "    }\n",
       "\n",
       "    .dataframe tbody tr th {\n",
       "        vertical-align: top;\n",
       "    }\n",
       "\n",
       "    .dataframe thead th {\n",
       "        text-align: right;\n",
       "    }\n",
       "</style>\n",
       "<table border=\"1\" class=\"dataframe\">\n",
       "  <thead>\n",
       "    <tr style=\"text-align: right;\">\n",
       "      <th></th>\n",
       "      <th>0</th>\n",
       "    </tr>\n",
       "  </thead>\n",
       "  <tbody>\n",
       "    <tr>\n",
       "      <td>tldr</td>\n",
       "      <td>-3.671758</td>\n",
       "    </tr>\n",
       "    <tr>\n",
       "      <td>tl dr</td>\n",
       "      <td>-2.499071</td>\n",
       "    </tr>\n",
       "    <tr>\n",
       "      <td>tl</td>\n",
       "      <td>-2.499024</td>\n",
       "    </tr>\n",
       "    <tr>\n",
       "      <td>relationships</td>\n",
       "      <td>-1.141747</td>\n",
       "    </tr>\n",
       "    <tr>\n",
       "      <td>dr</td>\n",
       "      <td>-0.993485</td>\n",
       "    </tr>\n",
       "    <tr>\n",
       "      <td>thinking</td>\n",
       "      <td>-0.932257</td>\n",
       "    </tr>\n",
       "    <tr>\n",
       "      <td>relationship</td>\n",
       "      <td>-0.912805</td>\n",
       "    </tr>\n",
       "    <tr>\n",
       "      <td>together</td>\n",
       "      <td>-0.863568</td>\n",
       "    </tr>\n",
       "    <tr>\n",
       "      <td>mad</td>\n",
       "      <td>-0.834077</td>\n",
       "    </tr>\n",
       "    <tr>\n",
       "      <td>love</td>\n",
       "      <td>-0.820506</td>\n",
       "    </tr>\n",
       "  </tbody>\n",
       "</table>\n",
       "</div>"
      ],
      "text/plain": [
       "                      0\n",
       "tldr          -3.671758\n",
       "tl dr         -2.499071\n",
       "tl            -2.499024\n",
       "relationships -1.141747\n",
       "dr            -0.993485\n",
       "thinking      -0.932257\n",
       "relationship  -0.912805\n",
       "together      -0.863568\n",
       "mad           -0.834077\n",
       "love          -0.820506"
      ]
     },
     "execution_count": 38,
     "metadata": {},
     "output_type": "execute_result"
    }
   ],
   "source": [
    "print('best predictors for r/relationships')\n",
    "coef_df[[0]].sort_values(0, ascending=True).head(10)"
   ]
  },
  {
   "cell_type": "code",
   "execution_count": 39,
   "metadata": {},
   "outputs": [
    {
     "data": {
      "text/plain": [
       "2.4501518445415105"
      ]
     },
     "execution_count": 39,
     "metadata": {},
     "output_type": "execute_result"
    }
   ],
   "source": [
    "import numpy as np\n",
    "np.exp(abs(-0.896150))\n",
    "# if it says 'feels', then it's 245% as likely to be from r/relationships"
   ]
  },
  {
   "cell_type": "code",
   "execution_count": 43,
   "metadata": {},
   "outputs": [
    {
     "data": {
      "image/png": "[encoded data removed]",
      "text/plain": [
       "<Figure size 432x288 with 1 Axes>"
      ]
     },
     "metadata": {
      "needs_background": "light"
     },
     "output_type": "display_data"
    }
   ],
   "source": [
    "coef_df.sort_values('abs', ascending=False).head(15)[0].plot.barh();"
   ]
  },
  {
   "cell_type": "markdown",
   "metadata": {},
   "source": [
    "## Multinomial Naive Bayes\n",
    "\n",
    "[**return to top of notebook**](#Love-Problems-or-Law-Problems?)"
   ]
  },
  {
   "cell_type": "code",
   "execution_count": 44,
   "metadata": {},
   "outputs": [],
   "source": [
    "pipe = Pipeline([\n",
    "    ('vectorizer', CountVectorizer()),\n",
    "    ('mn_nb', MultinomialNB())\n",
    "])\n",
    "\n",
    "pipe_params = {\n",
    "    'vectorizer__max_features':[100, 500],\n",
    "    'vectorizer__stop_words':[None, stopwords.words('english')],\n",
    "    'vectorizer__ngram_range':[(1,1), (1,2)]\n",
    "}\n",
    "\n",
    "gs = GridSearchCV(pipe,\n",
    "                 pipe_params,\n",
    "                 cv=5,\n",
    "                 verbose=1)"
   ]
  },
  {
   "cell_type": "code",
   "execution_count": 45,
   "metadata": {},
   "outputs": [
    {
     "name": "stdout",
     "output_type": "stream",
     "text": [
      "Fitting 5 folds for each of 8 candidates, totalling 40 fits\n"
     ]
    },
    {
     "name": "stderr",
     "output_type": "stream",
     "text": [
      "[Parallel(n_jobs=1)]: Using backend SequentialBackend with 1 concurrent workers.\n",
      "[Parallel(n_jobs=1)]: Done  40 out of  40 | elapsed:  1.8min finished\n"
     ]
    },
    {
     "name": "stdout",
     "output_type": "stream",
     "text": [
      "CPU times: user 1min 48s, sys: 1.76 s, total: 1min 50s\n",
      "Wall time: 1min 50s\n"
     ]
    },
    {
     "data": {
      "text/plain": [
       "GridSearchCV(cv=5, error_score='raise-deprecating',\n",
       "       estimator=Pipeline(memory=None,\n",
       "     steps=[('vectorizer', CountVectorizer(analyzer='word', binary=False, decode_error='strict',\n",
       "        dtype=<class 'numpy.int64'>, encoding='utf-8', input='content',\n",
       "        lowercase=True, max_df=1.0, max_features=None, min_df=1,\n",
       "        ngram_range=(1, 1), prepro...zer=None, vocabulary=None)), ('mn_nb', MultinomialNB(alpha=1.0, class_prior=None, fit_prior=True))]),\n",
       "       fit_params=None, iid='warn', n_jobs=None,\n",
       "       param_grid={'vectorizer__max_features': [100, 500], 'vectorizer__stop_words': [None, ['i', 'me', 'my', 'myself', 'we', 'our', 'ours', 'ourselves', 'you', \"you're\", \"you've\", \"you'll\", \"you'd\", 'your', 'yours', 'yourself', 'yourselves', 'he', 'him', 'his', 'himself', 'she', \"she's\", 'her', 'hers', 'h...en', \"weren't\", 'won', \"won't\", 'wouldn', \"wouldn't\"]], 'vectorizer__ngram_range': [(1, 1), (1, 2)]},\n",
       "       pre_dispatch='2*n_jobs', refit=True, return_train_score='warn',\n",
       "       scoring=None, verbose=1)"
      ]
     },
     "execution_count": 45,
     "metadata": {},
     "output_type": "execute_result"
    }
   ],
   "source": [
    "%%time\n",
    "\n",
    "gs.fit(X_train, y_train)"
   ]
  },
  {
   "cell_type": "code",
   "execution_count": 46,
   "metadata": {},
   "outputs": [
    {
     "name": "stdout",
     "output_type": "stream",
     "text": [
      "Best score: 0.9390178089584458\n",
      "\n",
      "Best params:\n",
      "\tvectorizer__max_features 500\n",
      "\n",
      "\tvectorizer__ngram_range (1, 2)\n",
      "\n",
      "\tvectorizer__stop_words ['i', 'me', 'my', 'myself', 'we', 'our', 'ours', 'ourselves', 'you', \"you're\", \"you've\", \"you'll\", \"you'd\", 'your', 'yours', 'yourself', 'yourselves', 'he', 'him', 'his', 'himself', 'she', \"she's\", 'her', 'hers', 'herself', 'it', \"it's\", 'its', 'itself', 'they', 'them', 'their', 'theirs', 'themselves', 'what', 'which', 'who', 'whom', 'this', 'that', \"that'll\", 'these', 'those', 'am', 'is', 'are', 'was', 'were', 'be', 'been', 'being', 'have', 'has', 'had', 'having', 'do', 'does', 'did', 'doing', 'a', 'an', 'the', 'and', 'but', 'if', 'or', 'because', 'as', 'until', 'while', 'of', 'at', 'by', 'for', 'with', 'about', 'against', 'between', 'into', 'through', 'during', 'before', 'after', 'above', 'below', 'to', 'from', 'up', 'down', 'in', 'out', 'on', 'off', 'over', 'under', 'again', 'further', 'then', 'once', 'here', 'there', 'when', 'where', 'why', 'how', 'all', 'any', 'both', 'each', 'few', 'more', 'most', 'other', 'some', 'such', 'no', 'nor', 'not', 'only', 'own', 'same', 'so', 'than', 'too', 'very', 's', 't', 'can', 'will', 'just', 'don', \"don't\", 'should', \"should've\", 'now', 'd', 'll', 'm', 'o', 're', 've', 'y', 'ain', 'aren', \"aren't\", 'couldn', \"couldn't\", 'didn', \"didn't\", 'doesn', \"doesn't\", 'hadn', \"hadn't\", 'hasn', \"hasn't\", 'haven', \"haven't\", 'isn', \"isn't\", 'ma', 'mightn', \"mightn't\", 'mustn', \"mustn't\", 'needn', \"needn't\", 'shan', \"shan't\", 'shouldn', \"shouldn't\", 'wasn', \"wasn't\", 'weren', \"weren't\", 'won', \"won't\", 'wouldn', \"wouldn't\"]\n",
      "\n",
      "\n",
      "Training score: 0.9460334592552617\n",
      "Test score: 0.936084142394822\n",
      "Scorer: <function _passthrough_scorer at 0x1a22b6fd90>\n",
      "\n",
      "Baseline:\n",
      "1    0.500809\n",
      "0    0.499191\n",
      "Name: is_legal, dtype: float64\n",
      "\n",
      "[0 1 1 1 1 1 1 1 1 0 0 0 1 1 1 0 0 0 1 0]\n"
     ]
    },
    {
     "data": {
      "text/markdown": [
       "#### Confusion Matrix"
      ],
      "text/plain": [
       "<IPython.core.display.Markdown object>"
      ]
     },
     "metadata": {},
     "output_type": "display_data"
    },
    {
     "data": {
      "text/html": [
       "<div>\n",
       "<style scoped>\n",
       "    .dataframe tbody tr th:only-of-type {\n",
       "        vertical-align: middle;\n",
       "    }\n",
       "\n",
       "    .dataframe tbody tr th {\n",
       "        vertical-align: top;\n",
       "    }\n",
       "\n",
       "    .dataframe thead th {\n",
       "        text-align: right;\n",
       "    }\n",
       "</style>\n",
       "<table border=\"1\" class=\"dataframe\">\n",
       "  <thead>\n",
       "    <tr style=\"text-align: right;\">\n",
       "      <th></th>\n",
       "      <th>predicted relationship</th>\n",
       "      <th>predicted legal</th>\n",
       "    </tr>\n",
       "  </thead>\n",
       "  <tbody>\n",
       "    <tr>\n",
       "      <td>actual relationship</td>\n",
       "      <td>595</td>\n",
       "      <td>22</td>\n",
       "    </tr>\n",
       "    <tr>\n",
       "      <td>actual legal</td>\n",
       "      <td>57</td>\n",
       "      <td>562</td>\n",
       "    </tr>\n",
       "  </tbody>\n",
       "</table>\n",
       "</div>"
      ],
      "text/plain": [
       "                     predicted relationship  predicted legal\n",
       "actual relationship                     595               22\n",
       "actual legal                             57              562"
      ]
     },
     "metadata": {},
     "output_type": "display_data"
    },
    {
     "data": {
      "text/markdown": [
       "#### Performance Metrics"
      ],
      "text/plain": [
       "<IPython.core.display.Markdown object>"
      ]
     },
     "metadata": {},
     "output_type": "display_data"
    },
    {
     "data": {
      "text/markdown": [
       "| Metric  | Score\n",
       "|--------|--------------------\n",
       "| Accuracy | 0.936 |\n",
       "| Precision | 0.962 |\n",
       "| Sensitivity | 0.908 |\n",
       "| Specificity | 0.964 |\n",
       "| Misclassification Rate | 0.064 |"
      ],
      "text/plain": [
       "<IPython.core.display.Markdown object>"
      ]
     },
     "metadata": {},
     "output_type": "display_data"
    }
   ],
   "source": [
    "gs_pipe_performance(gs, X_train, X_test, y_train, y_test)"
   ]
  },
  {
   "cell_type": "markdown",
   "metadata": {},
   "source": [
    "## Conclusion"
   ]
  },
  {
   "cell_type": "markdown",
   "metadata": {},
   "source": [
    "### In this case, judging by accuracy scores, the best model was a logistic regression, which performed better with an accuracy score of 97.3% whereas the multinomial naive Bayes had an accuracy score of 93.6%. The vectorizer that was used in the logistic regression model was CountVectorizer(), with parameters of `max_features`=500, `ngram_range`=(1,2), and `stop_words`=stopwords.words('english').\n",
    "\n",
    "[**return to top of notebook**](#Love-Problems-or-Law-Problems?)"
   ]
  },
  {
   "cell_type": "code",
   "execution_count": null,
   "metadata": {},
   "outputs": [],
   "source": []
  }
 ],
 "metadata": {
  "kernelspec": {
   "display_name": "Python 3",
   "language": "python",
   "name": "python3"
  },
  "language_info": {
   "codemirror_mode": {
    "name": "ipython",
    "version": 3
   },
   "file_extension": ".py",
   "mimetype": "text/x-python",
   "name": "python",
   "nbconvert_exporter": "python",
   "pygments_lexer": "ipython3",
   "version": "3.7.4"
  }
 },
 "nbformat": 4,
 "nbformat_minor": 2
}
